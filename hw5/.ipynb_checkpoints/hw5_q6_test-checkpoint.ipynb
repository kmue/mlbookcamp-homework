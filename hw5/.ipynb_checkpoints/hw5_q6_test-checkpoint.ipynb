{
 "cells": [
  {
   "cell_type": "code",
   "execution_count": 1,
   "id": "7b6ecafa",
   "metadata": {},
   "outputs": [],
   "source": [
    "import requests"
   ]
  },
  {
   "cell_type": "code",
   "execution_count": 2,
   "id": "7d1354c0",
   "metadata": {},
   "outputs": [],
   "source": [
    "url = 'http://127.0.0.1:9696/predict'"
   ]
  },
  {
   "cell_type": "code",
   "execution_count": 3,
   "id": "7268df18",
   "metadata": {},
   "outputs": [],
   "source": [
    "client = {\"reports\": 0, \n",
    "          \"share\": 0.245, \n",
    "          \"expenditure\": 3.438, \n",
    "          \"owner\": \"yes\"}"
   ]
  },
  {
   "cell_type": "code",
   "execution_count": 4,
   "id": "802a5da9",
   "metadata": {},
   "outputs": [
    {
     "data": {
      "text/plain": [
       "{'client': True, 'client_proba': 0.7692649226628628}"
      ]
     },
     "execution_count": 4,
     "metadata": {},
     "output_type": "execute_result"
    }
   ],
   "source": [
    "requests.post(url, json=client).json()"
   ]
  },
  {
   "cell_type": "code",
   "execution_count": null,
   "id": "189feeb1",
   "metadata": {},
   "outputs": [],
   "source": []
  }
 ],
 "metadata": {
  "kernelspec": {
   "display_name": "Python 3 (ipykernel)",
   "language": "python",
   "name": "python3"
  },
  "language_info": {
   "codemirror_mode": {
    "name": "ipython",
    "version": 3
   },
   "file_extension": ".py",
   "mimetype": "text/x-python",
   "name": "python",
   "nbconvert_exporter": "python",
   "pygments_lexer": "ipython3",
   "version": "3.9.12"
  }
 },
 "nbformat": 4,
 "nbformat_minor": 5
}
