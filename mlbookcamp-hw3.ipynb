{
 "cells": [
  {
   "cell_type": "code",
   "execution_count": 95,
   "id": "074fe94d",
   "metadata": {},
   "outputs": [],
   "source": [
    "import pandas as pd\n",
    "import numpy as np\n",
    "import matplotlib as mpl\n",
    "import seaborn as sb\n",
    "from sklearn.model_selection import train_test_split # for train test split\n",
    "from sklearn.metrics import mutual_info_score # for mutual information score\n",
    "from sklearn.metrics import accuracy_score # for accuracy score\n",
    "from sklearn.feature_extraction import DictVectorizer # for one-hot encoding\n",
    "from sklearn.linear_model import LogisticRegression # for log reg\n",
    "import pickle"
   ]
  },
  {
   "cell_type": "code",
   "execution_count": 96,
   "id": "546d158a",
   "metadata": {},
   "outputs": [],
   "source": [
    "df = pd.read_csv(\"housing.csv\")\n",
    "df = df[['latitude',\n",
    "         'longitude',\n",
    "         'housing_median_age',\n",
    "         'total_rooms',\n",
    "         'total_bedrooms',\n",
    "         'population',\n",
    "         'households',\n",
    "         'median_income',\n",
    "         'median_house_value',\n",
    "         'ocean_proximity']].copy()"
   ]
  },
  {
   "cell_type": "code",
   "execution_count": 97,
   "id": "702d7171",
   "metadata": {},
   "outputs": [
    {
     "data": {
      "text/plain": [
       "total_bedrooms    207\n",
       "dtype: int64"
      ]
     },
     "execution_count": 97,
     "metadata": {},
     "output_type": "execute_result"
    }
   ],
   "source": [
    "df.isna().sum()[df.isna().sum()>0]"
   ]
  },
  {
   "cell_type": "code",
   "execution_count": 98,
   "id": "44cc6f56",
   "metadata": {},
   "outputs": [],
   "source": [
    "# Data preparation\n",
    "\n",
    "# Select only the features from above and fill in the missing values with 0\n",
    "df['total_bedrooms'] = df['total_bedrooms'].fillna(0, inplace=False)\n"
   ]
  },
  {
   "cell_type": "code",
   "execution_count": 99,
   "id": "01efc655",
   "metadata": {},
   "outputs": [
    {
     "data": {
      "text/html": [
       "<div>\n",
       "<style scoped>\n",
       "    .dataframe tbody tr th:only-of-type {\n",
       "        vertical-align: middle;\n",
       "    }\n",
       "\n",
       "    .dataframe tbody tr th {\n",
       "        vertical-align: top;\n",
       "    }\n",
       "\n",
       "    .dataframe thead th {\n",
       "        text-align: right;\n",
       "    }\n",
       "</style>\n",
       "<table border=\"1\" class=\"dataframe\">\n",
       "  <thead>\n",
       "    <tr style=\"text-align: right;\">\n",
       "      <th></th>\n",
       "      <th>total_rooms</th>\n",
       "      <th>households</th>\n",
       "      <th>rooms_per_household</th>\n",
       "    </tr>\n",
       "  </thead>\n",
       "  <tbody>\n",
       "    <tr>\n",
       "      <th>0</th>\n",
       "      <td>880.0</td>\n",
       "      <td>126.0</td>\n",
       "      <td>6.984127</td>\n",
       "    </tr>\n",
       "    <tr>\n",
       "      <th>1</th>\n",
       "      <td>7099.0</td>\n",
       "      <td>1138.0</td>\n",
       "      <td>6.238137</td>\n",
       "    </tr>\n",
       "    <tr>\n",
       "      <th>2</th>\n",
       "      <td>1467.0</td>\n",
       "      <td>177.0</td>\n",
       "      <td>8.288136</td>\n",
       "    </tr>\n",
       "    <tr>\n",
       "      <th>3</th>\n",
       "      <td>1274.0</td>\n",
       "      <td>219.0</td>\n",
       "      <td>5.817352</td>\n",
       "    </tr>\n",
       "    <tr>\n",
       "      <th>4</th>\n",
       "      <td>1627.0</td>\n",
       "      <td>259.0</td>\n",
       "      <td>6.281853</td>\n",
       "    </tr>\n",
       "  </tbody>\n",
       "</table>\n",
       "</div>"
      ],
      "text/plain": [
       "   total_rooms  households  rooms_per_household\n",
       "0        880.0       126.0             6.984127\n",
       "1       7099.0      1138.0             6.238137\n",
       "2       1467.0       177.0             8.288136\n",
       "3       1274.0       219.0             5.817352\n",
       "4       1627.0       259.0             6.281853"
      ]
     },
     "execution_count": 99,
     "metadata": {},
     "output_type": "execute_result"
    }
   ],
   "source": [
    "# Create a new column rooms_per_household by dividing the column total_rooms by the column households from dataframe.\n",
    "df['rooms_per_household'] = df['total_rooms'] / df['households']\n",
    "df[['total_rooms', 'households', 'rooms_per_household']].head()"
   ]
  },
  {
   "cell_type": "code",
   "execution_count": 100,
   "id": "14e7eac2",
   "metadata": {},
   "outputs": [
    {
     "data": {
      "text/html": [
       "<div>\n",
       "<style scoped>\n",
       "    .dataframe tbody tr th:only-of-type {\n",
       "        vertical-align: middle;\n",
       "    }\n",
       "\n",
       "    .dataframe tbody tr th {\n",
       "        vertical-align: top;\n",
       "    }\n",
       "\n",
       "    .dataframe thead th {\n",
       "        text-align: right;\n",
       "    }\n",
       "</style>\n",
       "<table border=\"1\" class=\"dataframe\">\n",
       "  <thead>\n",
       "    <tr style=\"text-align: right;\">\n",
       "      <th></th>\n",
       "      <th>total_bedrooms</th>\n",
       "      <th>total_rooms</th>\n",
       "      <th>bedrooms_per_room</th>\n",
       "    </tr>\n",
       "  </thead>\n",
       "  <tbody>\n",
       "    <tr>\n",
       "      <th>0</th>\n",
       "      <td>129.0</td>\n",
       "      <td>880.0</td>\n",
       "      <td>0.146591</td>\n",
       "    </tr>\n",
       "    <tr>\n",
       "      <th>1</th>\n",
       "      <td>1106.0</td>\n",
       "      <td>7099.0</td>\n",
       "      <td>0.155797</td>\n",
       "    </tr>\n",
       "    <tr>\n",
       "      <th>2</th>\n",
       "      <td>190.0</td>\n",
       "      <td>1467.0</td>\n",
       "      <td>0.129516</td>\n",
       "    </tr>\n",
       "    <tr>\n",
       "      <th>3</th>\n",
       "      <td>235.0</td>\n",
       "      <td>1274.0</td>\n",
       "      <td>0.184458</td>\n",
       "    </tr>\n",
       "    <tr>\n",
       "      <th>4</th>\n",
       "      <td>280.0</td>\n",
       "      <td>1627.0</td>\n",
       "      <td>0.172096</td>\n",
       "    </tr>\n",
       "  </tbody>\n",
       "</table>\n",
       "</div>"
      ],
      "text/plain": [
       "   total_bedrooms  total_rooms  bedrooms_per_room\n",
       "0           129.0        880.0           0.146591\n",
       "1          1106.0       7099.0           0.155797\n",
       "2           190.0       1467.0           0.129516\n",
       "3           235.0       1274.0           0.184458\n",
       "4           280.0       1627.0           0.172096"
      ]
     },
     "execution_count": 100,
     "metadata": {},
     "output_type": "execute_result"
    }
   ],
   "source": [
    "# Create a new column bedrooms_per_room by dividing the column total_bedrooms by the column total_rooms from dataframe.\n",
    "df['bedrooms_per_room'] = df['total_bedrooms'] / df['total_rooms']\n",
    "df[['total_bedrooms', 'total_rooms', 'bedrooms_per_room']].head()"
   ]
  },
  {
   "cell_type": "code",
   "execution_count": 101,
   "id": "849ae7cb",
   "metadata": {},
   "outputs": [
    {
     "data": {
      "text/html": [
       "<div>\n",
       "<style scoped>\n",
       "    .dataframe tbody tr th:only-of-type {\n",
       "        vertical-align: middle;\n",
       "    }\n",
       "\n",
       "    .dataframe tbody tr th {\n",
       "        vertical-align: top;\n",
       "    }\n",
       "\n",
       "    .dataframe thead th {\n",
       "        text-align: right;\n",
       "    }\n",
       "</style>\n",
       "<table border=\"1\" class=\"dataframe\">\n",
       "  <thead>\n",
       "    <tr style=\"text-align: right;\">\n",
       "      <th></th>\n",
       "      <th>population</th>\n",
       "      <th>households</th>\n",
       "      <th>population_per_household</th>\n",
       "    </tr>\n",
       "  </thead>\n",
       "  <tbody>\n",
       "    <tr>\n",
       "      <th>0</th>\n",
       "      <td>322.0</td>\n",
       "      <td>126.0</td>\n",
       "      <td>2.555556</td>\n",
       "    </tr>\n",
       "    <tr>\n",
       "      <th>1</th>\n",
       "      <td>2401.0</td>\n",
       "      <td>1138.0</td>\n",
       "      <td>2.109842</td>\n",
       "    </tr>\n",
       "    <tr>\n",
       "      <th>2</th>\n",
       "      <td>496.0</td>\n",
       "      <td>177.0</td>\n",
       "      <td>2.802260</td>\n",
       "    </tr>\n",
       "    <tr>\n",
       "      <th>3</th>\n",
       "      <td>558.0</td>\n",
       "      <td>219.0</td>\n",
       "      <td>2.547945</td>\n",
       "    </tr>\n",
       "    <tr>\n",
       "      <th>4</th>\n",
       "      <td>565.0</td>\n",
       "      <td>259.0</td>\n",
       "      <td>2.181467</td>\n",
       "    </tr>\n",
       "  </tbody>\n",
       "</table>\n",
       "</div>"
      ],
      "text/plain": [
       "   population  households  population_per_household\n",
       "0       322.0       126.0                  2.555556\n",
       "1      2401.0      1138.0                  2.109842\n",
       "2       496.0       177.0                  2.802260\n",
       "3       558.0       219.0                  2.547945\n",
       "4       565.0       259.0                  2.181467"
      ]
     },
     "execution_count": 101,
     "metadata": {},
     "output_type": "execute_result"
    }
   ],
   "source": [
    "# Create a new column population_per_household by dividing the column population by the column households from dataframe.\n",
    "df['population_per_household'] = df['population'] / df['households']\n",
    "df[['population', 'households', 'population_per_household']].head()"
   ]
  },
  {
   "cell_type": "code",
   "execution_count": 102,
   "id": "111e5520",
   "metadata": {},
   "outputs": [
    {
     "data": {
      "text/plain": [
       "<1H OCEAN     9136\n",
       "INLAND        6551\n",
       "NEAR OCEAN    2658\n",
       "NEAR BAY      2290\n",
       "ISLAND           5\n",
       "Name: ocean_proximity, dtype: int64"
      ]
     },
     "execution_count": 102,
     "metadata": {},
     "output_type": "execute_result"
    }
   ],
   "source": [
    "# Question 1\n",
    "# What is the most frequent observation (mode) for the column ocean_proximity?\n",
    "df['ocean_proximity'].value_counts()\n",
    "# Options:\n",
    "# NEAR BAY\n",
    "# --> <1H OCEAN <--\n",
    "# INLAND\n",
    "# NEAR OCEAN"
   ]
  },
  {
   "cell_type": "code",
   "execution_count": 103,
   "id": "2977ff7c",
   "metadata": {},
   "outputs": [
    {
     "data": {
      "text/plain": [
       "['latitude',\n",
       " 'longitude',\n",
       " 'housing_median_age',\n",
       " 'total_rooms',\n",
       " 'total_bedrooms',\n",
       " 'population',\n",
       " 'households',\n",
       " 'median_income',\n",
       " 'median_house_value',\n",
       " 'ocean_proximity',\n",
       " 'rooms_per_household',\n",
       " 'bedrooms_per_room',\n",
       " 'population_per_household']"
      ]
     },
     "execution_count": 103,
     "metadata": {},
     "output_type": "execute_result"
    }
   ],
   "source": [
    "list(df.columns)"
   ]
  },
  {
   "cell_type": "code",
   "execution_count": 104,
   "id": "ea6e11dd",
   "metadata": {},
   "outputs": [
    {
     "name": "stdout",
     "output_type": "stream",
     "text": [
      "(20640, 13)\n",
      "\n",
      "(16512, 12)\n",
      "(4128, 12)\n",
      "\n",
      "(16512, 1)\n",
      "(4128, 1)\n"
     ]
    }
   ],
   "source": [
    "# Split the data\n",
    "# Split your data in train/val/test sets, with 60%/20%/20% distribution.\n",
    "# Use Scikit-Learn for that (the train_test_split function) and set the seed to 42.\n",
    "# Make sure that the target value (median_house_value) is not in your dataframe.\n",
    "X_train_valid, X_test, y_train_valid, y_test = train_test_split(\n",
    "    df.drop('median_house_value', axis = 1),\n",
    "    df[['median_house_value']],\n",
    "    train_size = 0.8,\n",
    "    test_size = 0.2,\n",
    "    random_state = 42)\n",
    "\n",
    "print(df.shape)\n",
    "print()\n",
    "print(X_train_valid.shape)\n",
    "print(X_test.shape)\n",
    "print()\n",
    "print(y_train_valid.shape)\n",
    "print(y_test.shape)"
   ]
  },
  {
   "cell_type": "code",
   "execution_count": 105,
   "id": "e5190708",
   "metadata": {},
   "outputs": [
    {
     "name": "stdout",
     "output_type": "stream",
     "text": [
      "(12384, 12)\n",
      "(4128, 12)\n",
      "\n",
      "(12384, 1)\n",
      "(4128, 1)\n"
     ]
    }
   ],
   "source": [
    "X_train, X_valid, y_train, y_valid = train_test_split(\n",
    "    X_train_valid,\n",
    "    y_train_valid,\n",
    "    train_size = 0.75,\n",
    "    test_size = 0.25,\n",
    "    shuffle = False)\n",
    "print(X_train.shape)\n",
    "print(X_valid.shape)\n",
    "print()\n",
    "print(y_train.shape)\n",
    "print(y_valid.shape)"
   ]
  },
  {
   "cell_type": "code",
   "execution_count": 106,
   "id": "4d0452de",
   "metadata": {},
   "outputs": [
    {
     "data": {
      "text/plain": [
       "latitude                  latitude                    1.000000\n",
       "households                total_bedrooms              0.980122\n",
       "total_rooms               total_bedrooms              0.932220\n",
       "longitude                 latitude                    0.924692\n",
       "households                total_rooms                 0.922343\n",
       "population                households                  0.912609\n",
       "total_bedrooms            population                  0.883679\n",
       "total_rooms               population                  0.864225\n",
       "bedrooms_per_room         median_income               0.612738\n",
       "                          rooms_per_household         0.495944\n",
       "rooms_per_household       median_income               0.390775\n",
       "total_rooms               housing_median_age          0.357091\n",
       "housing_median_age        total_bedrooms              0.316835\n",
       "                          households                  0.299384\n",
       "                          population                  0.295541\n",
       "total_rooms               median_income               0.200687\n",
       "bedrooms_per_room         total_rooms                 0.194630\n",
       "housing_median_age        rooms_per_household         0.184998\n",
       "total_rooms               rooms_per_household         0.162142\n",
       "housing_median_age        bedrooms_per_room           0.139736\n",
       "                          median_income               0.122593\n",
       "latitude                  bedrooms_per_room           0.114964\n",
       "rooms_per_household       latitude                    0.112144\n",
       "longitude                 housing_median_age          0.104698\n",
       "latitude                  population                  0.103322\n",
       "longitude                 population                  0.095549\n",
       "bedrooms_per_room         longitude                   0.092340\n",
       "median_income             latitude                    0.081605\n",
       "rooms_per_household       households                  0.081537\n",
       "bedrooms_per_room         total_bedrooms              0.074943\n",
       "population                rooms_per_household         0.074283\n",
       "population_per_household  population                  0.072008\n",
       "households                latitude                    0.063963\n",
       "longitude                 total_bedrooms              0.062915\n",
       "total_bedrooms            latitude                    0.060113\n",
       "households                bedrooms_per_room           0.055025\n",
       "longitude                 households                  0.049181\n",
       "total_rooms               longitude                   0.040909\n",
       "latitude                  total_rooms                 0.031472\n",
       "population                bedrooms_per_room           0.029046\n",
       "total_bedrooms            population_per_household    0.028215\n",
       "median_income             population_per_household    0.027866\n",
       "population_per_household  households                  0.027470\n",
       "longitude                 rooms_per_household         0.027332\n",
       "population_per_household  total_rooms                 0.024832\n",
       "households                median_income               0.017997\n",
       "population_per_household  housing_median_age          0.015159\n",
       "                          latitude                    0.010957\n",
       "rooms_per_household       population_per_household    0.010825\n",
       "longitude                 median_income               0.010414\n",
       "latitude                  housing_median_age          0.010049\n",
       "median_income             population                  0.009443\n",
       "bedrooms_per_room         population_per_household    0.008729\n",
       "rooms_per_household       total_bedrooms              0.007436\n",
       "total_bedrooms            median_income               0.003870\n",
       "longitude                 population_per_household    0.002316\n",
       "dtype: float64"
      ]
     },
     "execution_count": 106,
     "metadata": {},
     "output_type": "execute_result"
    }
   ],
   "source": [
    "# Question 2\n",
    "# Create the correlation matrix for the numerical features of your train dataset.\n",
    "num_columns = list(X_train.dtypes[df.dtypes == 'float64'].index)\n",
    "cat_columns = list(X_train.dtypes[df.dtypes == 'object'].index)\n",
    "corr_matrix = X_train[num_columns].corr()\n",
    "corr_matrix.abs().unstack().sort_values(ascending=False).drop_duplicates()\n",
    "# In a correlation matrix, you compute the correlation coefficient between every pair of features in the dataset.\n",
    "# What are the two features that have the biggest correlation in this dataset?\n",
    "# Options:\n",
    "# --> total_bedrooms and households <--\n",
    "# total_bedrooms and total_rooms\n",
    "# population and households\n",
    "# population_per_household and total_rooms"
   ]
  },
  {
   "cell_type": "code",
   "execution_count": 107,
   "id": "2eec00bc",
   "metadata": {},
   "outputs": [],
   "source": [
    "# Make median_house_value binary\n",
    "# We need to turn the median_house_value variable from numeric into binary.\n",
    "# Let's create a variable above_average which is 1 if the median_house_value is above its mean value and 0 otherwise.\n",
    "X_train['above_average'] = (y_train['median_house_value'] > y_train['median_house_value'].mean()).astype(int)\n",
    "X_valid['above_average'] = (y_valid['median_house_value'] > y_valid['median_house_value'].mean()).astype(int)\n",
    "X_test['above_average'] = (y_test['median_house_value'] > y_test['median_house_value'].mean()).astype(int)"
   ]
  },
  {
   "cell_type": "code",
   "execution_count": 108,
   "id": "f40342a0",
   "metadata": {},
   "outputs": [
    {
     "data": {
      "text/plain": [
       "0.1"
      ]
     },
     "execution_count": 108,
     "metadata": {},
     "output_type": "execute_result"
    }
   ],
   "source": [
    "# Question 3\n",
    "# Calculate the mutual information score with the (binarized) price \n",
    "# for the categorical variable that we have. Use the training set only.\n",
    "# What is the value of mutual information?\n",
    "mutual_info_score(X_train['above_average'],X_train['ocean_proximity']).round(2)\n",
    "# Round it to 2 decimal digits using round(score, 2)\n",
    "# Options:\n",
    "# 0.263\n",
    "# 0.00001\n",
    "# --> 0.101 <--\n",
    "# 0.15555"
   ]
  },
  {
   "cell_type": "code",
   "execution_count": 109,
   "id": "5c75e139",
   "metadata": {},
   "outputs": [
    {
     "name": "stdout",
     "output_type": "stream",
     "text": [
      "['bedrooms_per_room' 'households' 'housing_median_age' 'latitude'\n",
      " 'longitude' 'median_income' 'ocean_proximity=<1H OCEAN'\n",
      " 'ocean_proximity=INLAND' 'ocean_proximity=ISLAND'\n",
      " 'ocean_proximity=NEAR BAY' 'ocean_proximity=NEAR OCEAN' 'population'\n",
      " 'population_per_household' 'rooms_per_household' 'total_bedrooms'\n",
      " 'total_rooms']\n"
     ]
    }
   ],
   "source": [
    "# Question 4\n",
    "# Now let's train a logistic regression\n",
    "# Remember that we have one categorical variable ocean_proximity in the data. \n",
    "# Include it using one-hot encoding.\n",
    "train_dict = X_train[cat_columns + num_columns].to_dict(orient='records')\n",
    "dv = DictVectorizer(sparse=False)\n",
    "dv.fit(train_dict)\n",
    "print(dv.get_feature_names_out())\n",
    "X_train = dv.transform(train_dict)\n",
    "\n",
    "valid_dict = X_valid[cat_columns + num_columns].to_dict(orient='records')\n",
    "dv = DictVectorizer(sparse=False)\n",
    "dv.fit(valid_dict)\n",
    "X_valid = dv.transform(valid_dict)\n",
    "\n",
    "test_dict = X_test[cat_columns + num_columns].to_dict(orient='records')\n",
    "dv = DictVectorizer(sparse=False)\n",
    "dv.fit(test_dict)\n",
    "X_test = dv.transform(test_dict)\n"
   ]
  },
  {
   "cell_type": "code",
   "execution_count": 110,
   "id": "c77b60d1",
   "metadata": {},
   "outputs": [
    {
     "data": {
      "text/plain": [
       "array([103000., 382100., 172600., ..., 144300., 154700., 158800.])"
      ]
     },
     "execution_count": 110,
     "metadata": {},
     "output_type": "execute_result"
    }
   ],
   "source": [
    "y_train.values.ravel()"
   ]
  },
  {
   "cell_type": "code",
   "execution_count": 111,
   "id": "049b0d40",
   "metadata": {},
   "outputs": [
    {
     "data": {
      "text/plain": [
       "(12384, 16)"
      ]
     },
     "execution_count": 111,
     "metadata": {},
     "output_type": "execute_result"
    }
   ],
   "source": [
    "X_train.shape"
   ]
  },
  {
   "cell_type": "code",
   "execution_count": 112,
   "id": "402b5d31",
   "metadata": {},
   "outputs": [
    {
     "data": {
      "text/plain": [
       "LogisticRegression(max_iter=1000, random_state=42, solver='liblinear')"
      ]
     },
     "execution_count": 112,
     "metadata": {},
     "output_type": "execute_result"
    }
   ],
   "source": [
    "# Fit the model on the training dataset.\n",
    "# To make sure the results are reproducible across different versions of Scikit-Learn, \n",
    "# fit the model with these parameters:\n",
    "model = LogisticRegression(solver = \"liblinear\", \n",
    "                           C = 1.0, \n",
    "                           max_iter = 1000, \n",
    "                           random_state = 42)\n",
    "\n",
    "model.fit(X_train, \n",
    "         y_train.values.ravel())"
   ]
  },
  {
   "cell_type": "code",
   "execution_count": 113,
   "id": "c69d6b05",
   "metadata": {},
   "outputs": [],
   "source": [
    "# filename = 'hw3_logistic_regression.sav'\n",
    "\n",
    "# pickle.dump(model, open(filename, 'wb'))\n",
    "\n",
    "# some time later...\n",
    " \n",
    "# load the model from disk\n",
    "# loaded_model = pickle.load(open(filename, 'rb'))\n",
    "# print(result)"
   ]
  },
  {
   "cell_type": "code",
   "execution_count": 114,
   "id": "3186c8f8",
   "metadata": {},
   "outputs": [
    {
     "data": {
      "text/plain": [
       "(4128, 16)"
      ]
     },
     "execution_count": 114,
     "metadata": {},
     "output_type": "execute_result"
    }
   ],
   "source": [
    "X_valid.shape"
   ]
  },
  {
   "cell_type": "code",
   "execution_count": 126,
   "id": "4dda0ee5",
   "metadata": {},
   "outputs": [],
   "source": [
    "y_valid_pred = model.predict(X_valid)"
   ]
  },
  {
   "cell_type": "code",
   "execution_count": 127,
   "id": "c2bab490",
   "metadata": {},
   "outputs": [
    {
     "data": {
      "text/plain": [
       "(4128,)"
      ]
     },
     "execution_count": 127,
     "metadata": {},
     "output_type": "execute_result"
    }
   ],
   "source": [
    "y_valid_pred.shape"
   ]
  },
  {
   "cell_type": "code",
   "execution_count": 128,
   "id": "e90f2426",
   "metadata": {},
   "outputs": [
    {
     "data": {
      "text/plain": [
       "(4128, 1)"
      ]
     },
     "execution_count": 128,
     "metadata": {},
     "output_type": "execute_result"
    }
   ],
   "source": [
    "y_valid.shape"
   ]
  },
  {
   "cell_type": "code",
   "execution_count": 129,
   "id": "637edb16",
   "metadata": {},
   "outputs": [
    {
     "data": {
      "text/plain": [
       "<bound method NDFrame.head of        median_house_value\n",
       "9221              58800.0\n",
       "10234            165800.0\n",
       "4763             139400.0\n",
       "9062             107500.0\n",
       "1874             107200.0\n",
       "...                   ...\n",
       "11284            229200.0\n",
       "11964             97800.0\n",
       "5390             222100.0\n",
       "860              283500.0\n",
       "15795            325000.0\n",
       "\n",
       "[4128 rows x 1 columns]>"
      ]
     },
     "execution_count": 129,
     "metadata": {},
     "output_type": "execute_result"
    }
   ],
   "source": [
    "y_valid.head"
   ]
  },
  {
   "cell_type": "code",
   "execution_count": 130,
   "id": "f5f327ce",
   "metadata": {},
   "outputs": [
    {
     "data": {
      "text/plain": [
       "<bound method NDFrame.head of       median_house_value\n",
       "0               112500.0\n",
       "1               137500.0\n",
       "2               500001.0\n",
       "3                67500.0\n",
       "4               137500.0\n",
       "...                  ...\n",
       "4123            500001.0\n",
       "4124             67500.0\n",
       "4125            162500.0\n",
       "4126            500001.0\n",
       "4127            400000.0\n",
       "\n",
       "[4128 rows x 1 columns]>"
      ]
     },
     "execution_count": 130,
     "metadata": {},
     "output_type": "execute_result"
    }
   ],
   "source": [
    "y_valid_pred_df = pd.DataFrame(y_valid_pred, columns = ['median_house_value'])\n",
    "y_valid_pred_df.head"
   ]
  },
  {
   "cell_type": "code",
   "execution_count": 131,
   "id": "abedf0ba",
   "metadata": {
    "scrolled": true
   },
   "outputs": [
    {
     "data": {
      "text/plain": [
       "0.04869186046511628"
      ]
     },
     "execution_count": 131,
     "metadata": {},
     "output_type": "execute_result"
    }
   ],
   "source": [
    "# Calculate the accuracy on the validation dataset and round it to 2 decimal digits.\n",
    "accuracy_score(y_valid_pred, y_valid)\n",
    "# Options:\n",
    "# 0.60\n",
    "# 0.72\n",
    "# 0.84\n",
    "# 0.95"
   ]
  },
  {
   "cell_type": "code",
   "execution_count": null,
   "id": "cc0e60dc",
   "metadata": {},
   "outputs": [],
   "source": [
    "model.predict_proba(X_valid)"
   ]
  },
  {
   "cell_type": "code",
   "execution_count": null,
   "id": "5c4a5c40",
   "metadata": {},
   "outputs": [],
   "source": [
    "# Question 5\n",
    "# Let's find the least useful feature using the feature elimination technique.\n",
    "# Train a model with all these features (using the same parameters as in Q4).\n",
    "# Now exclude each feature from this set and train a model without it. Record the accuracy for each model.\n",
    "# For each feature, calculate the difference between the original accuracy and the accuracy without the feature.\n",
    "# Which of following feature has the smallest difference?\n",
    "# total_rooms\n",
    "# total_bedrooms\n",
    "# population\n",
    "# households\n",
    "# note: the difference doesn't have to be positive"
   ]
  },
  {
   "cell_type": "code",
   "execution_count": null,
   "id": "ac21ac24",
   "metadata": {},
   "outputs": [],
   "source": [
    "# Question 6\n",
    "# For this question, we'll see how to use a linear regression model from Scikit-Learn\n",
    "# We'll need to use the original column 'median_house_value'. Apply the logarithmic transformation to this column.\n",
    "# Fit the Ridge regression model (model = Ridge(alpha=a, solver=\"sag\", random_state=42)) on the training data.\n",
    "# This model has a parameter alpha. Let's try the following values: [0, 0.01, 0.1, 1, 10]\n",
    "# Which of these alphas leads to the best RMSE on the validation set? Round your RMSE scores to 3 decimal digits.\n",
    "# If there are multiple options, select the smallest alpha.\n",
    "# Options:\n",
    "# 0\n",
    "# 0.01\n",
    "# 0.1\n",
    "# 1\n",
    "# 10"
   ]
  },
  {
   "cell_type": "code",
   "execution_count": null,
   "id": "6222ddda",
   "metadata": {},
   "outputs": [],
   "source": []
  },
  {
   "cell_type": "code",
   "execution_count": null,
   "id": "7ee5c442",
   "metadata": {},
   "outputs": [],
   "source": []
  }
 ],
 "metadata": {
  "kernelspec": {
   "display_name": "Python 3 (ipykernel)",
   "language": "python",
   "name": "python3"
  },
  "language_info": {
   "codemirror_mode": {
    "name": "ipython",
    "version": 3
   },
   "file_extension": ".py",
   "mimetype": "text/x-python",
   "name": "python",
   "nbconvert_exporter": "python",
   "pygments_lexer": "ipython3",
   "version": "3.9.12"
  }
 },
 "nbformat": 4,
 "nbformat_minor": 5
}
