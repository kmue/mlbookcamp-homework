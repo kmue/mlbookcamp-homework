{
 "cells": [
  {
   "cell_type": "code",
   "execution_count": 1,
   "id": "22bd183c",
   "metadata": {},
   "outputs": [],
   "source": [
    "import math # for sqrt...\n",
    "import pandas as pd\n",
    "import numpy as np\n",
    "import matplotlib as mpl\n",
    "import seaborn as sb\n",
    "from sklearn.model_selection import train_test_split # for train test split\n",
    "from sklearn.metrics import mutual_info_score # for mutual information score\n",
    "from sklearn.metrics import accuracy_score # for accuracy score\n",
    "from sklearn.metrics import mean_squared_error # for q6\n",
    "from sklearn.feature_extraction import DictVectorizer # for one-hot encoding\n",
    "from sklearn.linear_model import LogisticRegression # for log reg\n",
    "from sklearn.linear_model import Ridge # for q6\n",
    "import pickle\n",
    "\n",
    "from sklearn.metrics import roc_auc_score # for hw4 q1\n",
    "from matplotlib import pyplot as plt # for hw4 q3\n",
    "%matplotlib inline\n",
    "from sklearn.model_selection import KFold # for hw4 q5\n",
    "\n",
    "from tqdm.auto import tqdm # copy-pasted from Alexey for q6"
   ]
  },
  {
   "cell_type": "code",
   "execution_count": 2,
   "id": "891fd335",
   "metadata": {},
   "outputs": [],
   "source": [
    "df = pd.read_csv(\"AER_credit_card_data.csv\")\n",
    "# The goal of this homework is to inspect the output of different evaluation metrics \n",
    "# by creating a classification model (target column card)."
   ]
  },
  {
   "cell_type": "code",
   "execution_count": 3,
   "id": "d53b2a8a",
   "metadata": {},
   "outputs": [],
   "source": [
    "# Preparation\n",
    "# Create the target variable by mapping yes to 1 and no to 0.\n",
    "df['card'] = df['card'].map(dict(yes=1, no=0)) # <-- target\n",
    "# df['owner'] = df['owner'].map(dict(yes=1, no=0))\n",
    "# df['selfemp'] = df['selfemp'].map(dict(yes=1, no=0))\n",
    "# df.head()"
   ]
  },
  {
   "cell_type": "code",
   "execution_count": 59,
   "id": "5402e333",
   "metadata": {},
   "outputs": [],
   "source": [
    "# Split the dataset into 3 parts: train/validation/test with 60%/20%/20% distribution. \n",
    "# Use train_test_split funciton for that with random_state=1.\n",
    "X_train_valid, X_test, y_train_valid, y_test = train_test_split(\n",
    "    df.drop('card', axis = 1),\n",
    "    df[['card']],\n",
    "    train_size = 0.8,\n",
    "    test_size = 0.2,\n",
    "    random_state = 1)\n",
    "\n",
    "X_train, X_valid, y_train, y_valid = train_test_split(\n",
    "    X_train_valid,\n",
    "    y_train_valid,\n",
    "    train_size = 0.75,\n",
    "    test_size = 0.25,\n",
    "    #shuffle = False,\n",
    "    random_state = 1)"
   ]
  },
  {
   "cell_type": "code",
   "execution_count": 60,
   "id": "fc5fdcda",
   "metadata": {},
   "outputs": [],
   "source": [
    "#y_valid.sum()"
   ]
  },
  {
   "cell_type": "code",
   "execution_count": 61,
   "id": "22a7d667",
   "metadata": {},
   "outputs": [
    {
     "name": "stdout",
     "output_type": "stream",
     "text": [
      "AUC for variable 'reports':  0.7166629860689376\n",
      "AUC for variable 'dependents':  0.5327757227773791\n",
      "AUC for variable 'active':  0.6043173411362006\n",
      "AUC for variable 'share':  0.989183643423692\n"
     ]
    }
   ],
   "source": [
    "# Question 1\n",
    "# ROC AUC could also be used to evaluate feature importance of numerical variables.\n",
    "# Let's do that\n",
    "# For each numerical variable, use it as score and compute AUC with the card variable.\n",
    "# Use the training dataset for that.\n",
    "# If your AUC is < 0.5, invert this variable by putting \"-\" in front\n",
    "roc_auc_reports = roc_auc_score(y_train, -X_train[['reports']])\n",
    "print(\"AUC for variable 'reports': \", roc_auc_reports)\n",
    "roc_auc_dependents = roc_auc_score(y_train, -X_train[['dependents']])\n",
    "print(\"AUC for variable 'dependents': \", roc_auc_dependents)\n",
    "roc_auc_active = roc_auc_score(y_train, X_train[['active']])\n",
    "print(\"AUC for variable 'active': \", roc_auc_active)\n",
    "roc_auc_share = roc_auc_score(y_train, X_train[['share']])\n",
    "print(\"AUC for variable 'share': \", roc_auc_share)\n",
    "\n",
    "# numerical variables: reports, age, income, share, expenditure, dependents, months, active\n",
    "# relevant for question: reports, dependents, active, share\n",
    "# (e.g. -df_train['expenditure'])\n",
    "# AUC can go below 0.5 if the variable is negatively correlated with the target varialble. You can change the direction of the correlation by negating this variable - then negative correlation becomes positive.\n",
    "\n",
    "# Which numerical variable (among the following 4) has the highest AUC?\n",
    "# reports\n",
    "# dependents\n",
    "# active\n",
    "# --> share <--"
   ]
  },
  {
   "cell_type": "code",
   "execution_count": 62,
   "id": "a1c5d2c3",
   "metadata": {},
   "outputs": [],
   "source": [
    "# Training the model\n",
    "# From now on, use these columns only:\n",
    "columns_to_use = [\"reports\", \n",
    "                  \"age\", \"income\", \n",
    "                  \"share\", \n",
    "                  \"expenditure\", \n",
    "                  \"dependents\", \n",
    "                  \"months\", \n",
    "                  \"majorcards\", \n",
    "                  \"active\", \n",
    "                  \"owner\", \n",
    "                  \"selfemp\"]\n",
    "columns_to_use\n",
    "X_train_valid_q2 = X_train_valid[columns_to_use].copy() # added for q5\n",
    "X_train_q2 = X_train[columns_to_use].copy()\n",
    "X_valid_q2 = X_valid[columns_to_use].copy()\n",
    "X_test_q2 = X_test[columns_to_use].copy()\n",
    "# Apply one-hot-encoding using DictVectorizer "
   ]
  },
  {
   "cell_type": "code",
   "execution_count": 63,
   "id": "4207c507",
   "metadata": {},
   "outputs": [
    {
     "data": {
      "text/html": [
       "<div>\n",
       "<style scoped>\n",
       "    .dataframe tbody tr th:only-of-type {\n",
       "        vertical-align: middle;\n",
       "    }\n",
       "\n",
       "    .dataframe tbody tr th {\n",
       "        vertical-align: top;\n",
       "    }\n",
       "\n",
       "    .dataframe thead th {\n",
       "        text-align: right;\n",
       "    }\n",
       "</style>\n",
       "<table border=\"1\" class=\"dataframe\">\n",
       "  <thead>\n",
       "    <tr style=\"text-align: right;\">\n",
       "      <th></th>\n",
       "      <th>reports</th>\n",
       "      <th>age</th>\n",
       "      <th>income</th>\n",
       "      <th>share</th>\n",
       "      <th>expenditure</th>\n",
       "      <th>dependents</th>\n",
       "      <th>months</th>\n",
       "      <th>majorcards</th>\n",
       "      <th>active</th>\n",
       "      <th>owner</th>\n",
       "      <th>selfemp</th>\n",
       "    </tr>\n",
       "  </thead>\n",
       "  <tbody>\n",
       "    <tr>\n",
       "      <th>1105</th>\n",
       "      <td>3</td>\n",
       "      <td>40.50000</td>\n",
       "      <td>4.0128</td>\n",
       "      <td>0.000299</td>\n",
       "      <td>0.00000</td>\n",
       "      <td>1</td>\n",
       "      <td>12</td>\n",
       "      <td>1</td>\n",
       "      <td>17</td>\n",
       "      <td>no</td>\n",
       "      <td>no</td>\n",
       "    </tr>\n",
       "    <tr>\n",
       "      <th>431</th>\n",
       "      <td>1</td>\n",
       "      <td>32.33333</td>\n",
       "      <td>6.0000</td>\n",
       "      <td>0.000200</td>\n",
       "      <td>0.00000</td>\n",
       "      <td>4</td>\n",
       "      <td>18</td>\n",
       "      <td>1</td>\n",
       "      <td>4</td>\n",
       "      <td>yes</td>\n",
       "      <td>no</td>\n",
       "    </tr>\n",
       "    <tr>\n",
       "      <th>407</th>\n",
       "      <td>1</td>\n",
       "      <td>29.16667</td>\n",
       "      <td>2.2000</td>\n",
       "      <td>0.038205</td>\n",
       "      <td>69.79333</td>\n",
       "      <td>0</td>\n",
       "      <td>49</td>\n",
       "      <td>1</td>\n",
       "      <td>7</td>\n",
       "      <td>no</td>\n",
       "      <td>no</td>\n",
       "    </tr>\n",
       "    <tr>\n",
       "      <th>1217</th>\n",
       "      <td>1</td>\n",
       "      <td>54.66667</td>\n",
       "      <td>7.2900</td>\n",
       "      <td>0.106536</td>\n",
       "      <td>647.20670</td>\n",
       "      <td>2</td>\n",
       "      <td>78</td>\n",
       "      <td>1</td>\n",
       "      <td>9</td>\n",
       "      <td>yes</td>\n",
       "      <td>no</td>\n",
       "    </tr>\n",
       "    <tr>\n",
       "      <th>1133</th>\n",
       "      <td>0</td>\n",
       "      <td>25.00000</td>\n",
       "      <td>3.3984</td>\n",
       "      <td>0.000353</td>\n",
       "      <td>0.00000</td>\n",
       "      <td>2</td>\n",
       "      <td>29</td>\n",
       "      <td>0</td>\n",
       "      <td>4</td>\n",
       "      <td>yes</td>\n",
       "      <td>no</td>\n",
       "    </tr>\n",
       "  </tbody>\n",
       "</table>\n",
       "</div>"
      ],
      "text/plain": [
       "      reports       age  income     share  expenditure  dependents  months  \\\n",
       "1105        3  40.50000  4.0128  0.000299      0.00000           1      12   \n",
       "431         1  32.33333  6.0000  0.000200      0.00000           4      18   \n",
       "407         1  29.16667  2.2000  0.038205     69.79333           0      49   \n",
       "1217        1  54.66667  7.2900  0.106536    647.20670           2      78   \n",
       "1133        0  25.00000  3.3984  0.000353      0.00000           2      29   \n",
       "\n",
       "      majorcards  active owner selfemp  \n",
       "1105           1      17    no      no  \n",
       "431            1       4   yes      no  \n",
       "407            1       7    no      no  \n",
       "1217           1       9   yes      no  \n",
       "1133           0       4   yes      no  "
      ]
     },
     "execution_count": 63,
     "metadata": {},
     "output_type": "execute_result"
    }
   ],
   "source": [
    "X_train_q2.head()"
   ]
  },
  {
   "cell_type": "code",
   "execution_count": 64,
   "id": "fd917192",
   "metadata": {},
   "outputs": [],
   "source": [
    "train_dict = X_train_q2.to_dict(orient='records')\n",
    "dv = DictVectorizer(sparse=False)\n",
    "dv.fit(train_dict)\n",
    "X_train_q2 = dv.transform(train_dict)\n",
    "\n",
    "valid_dict = X_valid_q2.to_dict(orient='records')\n",
    "dv = DictVectorizer(sparse=False)\n",
    "dv.fit(valid_dict)\n",
    "X_valid_q2 = dv.transform(valid_dict)\n",
    "\n",
    "test_dict = X_test_q2.to_dict(orient='records')\n",
    "dv = DictVectorizer(sparse=False)\n",
    "dv.fit(test_dict)\n",
    "X_test_q2 = dv.transform(test_dict)\n"
   ]
  },
  {
   "cell_type": "code",
   "execution_count": 65,
   "id": "caea9c4f",
   "metadata": {},
   "outputs": [],
   "source": [
    "# and train the logistic regression with these parameters:\n",
    "model_q2 = LogisticRegression(solver='liblinear', C=1.0, max_iter=1000)\n",
    "model_q2.fit(X_train_q2, y_train.values.ravel())\n",
    "card_valid_pred_q2 = model_q2.predict(X_valid_q2)"
   ]
  },
  {
   "cell_type": "code",
   "execution_count": 66,
   "id": "d1b3f531",
   "metadata": {},
   "outputs": [],
   "source": [
    "card_valid_pred_proba_q2 = model_q2.predict_proba(X_valid_q2)[:, 1]#.round(3)\n",
    "#card_valid_pred_proba"
   ]
  },
  {
   "cell_type": "code",
   "execution_count": 67,
   "id": "af854919",
   "metadata": {},
   "outputs": [
    {
     "data": {
      "text/plain": [
       "0.995"
      ]
     },
     "execution_count": 67,
     "metadata": {},
     "output_type": "execute_result"
    }
   ],
   "source": [
    "# Question 2\n",
    "# What's the AUC of this model on the validation dataset? (round to 3 digits)\n",
    "\n",
    "round(roc_auc_score(y_valid, card_valid_pred_proba_q2),3)\n",
    "\n",
    "# 0.615\n",
    "# 0.515\n",
    "# 0.715\n",
    "# --> 0.995 <-- closest"
   ]
  },
  {
   "cell_type": "code",
   "execution_count": 68,
   "id": "30c9cfbf",
   "metadata": {},
   "outputs": [],
   "source": [
    "\n",
    "#print(np.array(card_valid_pred_proba).shape)\n",
    "#print(np.array(y_valid.values).shape)"
   ]
  },
  {
   "cell_type": "code",
   "execution_count": 69,
   "id": "372f2ab9",
   "metadata": {},
   "outputs": [
    {
     "data": {
      "text/plain": [
       "1    211\n",
       "0     53\n",
       "Name: card, dtype: int64"
      ]
     },
     "execution_count": 69,
     "metadata": {},
     "output_type": "execute_result"
    }
   ],
   "source": [
    "y_valid.card.value_counts()"
   ]
  },
  {
   "cell_type": "code",
   "execution_count": 70,
   "id": "7f852be6",
   "metadata": {},
   "outputs": [],
   "source": [
    "# Question 3\n",
    "# Now let's compute precision and recall for our model.\n",
    "# Evaluate the model on all thresholds from 0.0 to 1.0 with step 0.01\n",
    "thresholds = np.linspace(0, 1, 101)\n",
    "thresholds\n",
    "# For each threshold, compute precision and recall\n",
    "precision = []\n",
    "recall = []\n",
    "\n",
    "for t in thresholds:\n",
    "    true_positive = ((card_valid_pred_proba_q2 >= t) &\n",
    "                     (y_valid.card.values == 1)).sum()\n",
    "    # print(true_positive)\n",
    "    false_positive = ((card_valid_pred_proba_q2 >= t) &\n",
    "                      (y_valid.card.values == 0)).sum()\n",
    "    # print(false_positive)\n",
    "    false_negative = ((card_valid_pred_proba_q2 < t) &\n",
    "                      (y_valid.card.values == 1)).sum()\n",
    "    # print(false_negative)\n",
    "    true_negative = ((card_valid_pred_proba_q2 < t) &\n",
    "                     (y_valid.card.values == 0)).sum()\n",
    "    # print(true_negative)\n",
    "    prec = true_positive / (true_positive + false_positive)\n",
    "    reca = true_positive / (true_positive + false_negative)\n",
    "    precision.append(prec)\n",
    "    recall.append(reca)\n",
    "    #print('%0.2f %d %d %d %d %0.2f %0.3f' % (t, \n",
    "    #                                         true_positive, false_positive, false_negative, true_negative, \n",
    "    #                                         prec, reca))\n"
   ]
  },
  {
   "cell_type": "code",
   "execution_count": 71,
   "id": "db3a8dcb",
   "metadata": {},
   "outputs": [
    {
     "data": {
      "image/png": "[encoded data removed]",
      "text/plain": [
       "<Figure size 432x288 with 1 Axes>"
      ]
     },
     "metadata": {
      "needs_background": "light"
     },
     "output_type": "display_data"
    }
   ],
   "source": [
    "plt.figure(figsize=(6, 4))\n",
    "\n",
    "plt.plot(thresholds, precision, color='blue')\n",
    "plt.plot(thresholds, recall, color='green')\n",
    "\n",
    "plt.title('Precision (blue) and Recall (green) vs Threshold')\n",
    "plt.xlabel('Threshold')\n",
    "plt.ylabel('Precision and Recall')\n",
    "\n",
    "plt.xticks(np.linspace(0, 1, 11))\n",
    "\n",
    "# plt.savefig('04_threshold_accuracy.svg')\n",
    "\n",
    "plt.show()"
   ]
  },
  {
   "cell_type": "code",
   "execution_count": 72,
   "id": "0e296f14",
   "metadata": {},
   "outputs": [],
   "source": [
    "# Plot them\n",
    "# At which threshold precision and recall curves intersect?\n",
    "# 0.1\n",
    "# --> 0.3 <--\n",
    "# 0.6\n",
    "# 0.8"
   ]
  },
  {
   "cell_type": "code",
   "execution_count": 73,
   "id": "4c8aca7e",
   "metadata": {
    "scrolled": true
   },
   "outputs": [],
   "source": [
    "# Question 4\n",
    "# Precision and recall are conflicting - when one grows, the other goes down. \n",
    "# That's why they are often combined into the F1 score - a metrics that takes into account both\n",
    "# This is the formula for computing F1:\n",
    "# F1 = 2 * P * R / (P + R)\n",
    "# Where P is precision and R is recall.\n",
    "# Let's compute F1 for all thresholds from 0.0 to 1.0 with increment 0.01\n",
    "f1 = []\n",
    "for t in thresholds:\n",
    "    \n",
    "    true_positive = ((card_valid_pred_proba_q2 >= t) & (y_valid.card.values == 1)).sum()\n",
    "    false_positive = ((card_valid_pred_proba_q2 >= t) & (y_valid.card.values == 0)).sum()\n",
    "    false_negative = ((card_valid_pred_proba_q2 < t) & (y_valid.card.values == 1)).sum()\n",
    "    true_negative = ((card_valid_pred_proba_q2 < t) & (y_valid.card.values == 0)).sum()\n",
    "    prec = true_positive / (true_positive + false_positive)\n",
    "    reca = true_positive / (true_positive + false_negative)\n",
    "    f1_t = 2 * prec * reca / ( prec + reca )\n",
    "    f1.append((t, true_positive, false_positive, false_negative, true_negative, f1_t))\n",
    "    \n",
    "    #print('%0.2f %0.3f' % (t, f1_t))\n",
    "    \n",
    "columns = ['threshold', 'tp', 'fp', 'fn', 'tn', 'f1']\n",
    "df_scores = pd.DataFrame(f1, columns=columns)"
   ]
  },
  {
   "cell_type": "code",
   "execution_count": 74,
   "id": "819f094d",
   "metadata": {},
   "outputs": [
    {
     "data": {
      "image/png": "[encoded data removed]",
      "text/plain": [
       "<Figure size 432x288 with 1 Axes>"
      ]
     },
     "metadata": {
      "needs_background": "light"
     },
     "output_type": "display_data"
    }
   ],
   "source": [
    "plt.figure(figsize=(6, 4))\n",
    "\n",
    "plt.plot(df_scores.threshold, df_scores.f1, color='red')\n",
    "\n",
    "plt.title('F1 score vs Threshold')\n",
    "plt.xlabel('Threshold')\n",
    "plt.ylabel('F1 score')\n",
    "\n",
    "plt.xticks(np.linspace(0, 1, 11))\n",
    "\n",
    "# plt.savefig('04_threshold_accuracy.svg')\n",
    "\n",
    "plt.show()"
   ]
  },
  {
   "cell_type": "code",
   "execution_count": 75,
   "id": "ab7622ce",
   "metadata": {},
   "outputs": [
    {
     "data": {
      "text/html": [
       "<div>\n",
       "<style scoped>\n",
       "    .dataframe tbody tr th:only-of-type {\n",
       "        vertical-align: middle;\n",
       "    }\n",
       "\n",
       "    .dataframe tbody tr th {\n",
       "        vertical-align: top;\n",
       "    }\n",
       "\n",
       "    .dataframe thead th {\n",
       "        text-align: right;\n",
       "    }\n",
       "</style>\n",
       "<table border=\"1\" class=\"dataframe\">\n",
       "  <thead>\n",
       "    <tr style=\"text-align: right;\">\n",
       "      <th></th>\n",
       "      <th>threshold</th>\n",
       "      <th>tp</th>\n",
       "      <th>fp</th>\n",
       "      <th>fn</th>\n",
       "      <th>tn</th>\n",
       "      <th>f1</th>\n",
       "    </tr>\n",
       "  </thead>\n",
       "  <tbody>\n",
       "    <tr>\n",
       "      <th>39</th>\n",
       "      <td>0.39</td>\n",
       "      <td>205</td>\n",
       "      <td>1</td>\n",
       "      <td>6</td>\n",
       "      <td>52</td>\n",
       "      <td>0.983213</td>\n",
       "    </tr>\n",
       "  </tbody>\n",
       "</table>\n",
       "</div>"
      ],
      "text/plain": [
       "    threshold   tp  fp  fn  tn        f1\n",
       "39       0.39  205   1   6  52  0.983213"
      ]
     },
     "execution_count": 75,
     "metadata": {},
     "output_type": "execute_result"
    }
   ],
   "source": [
    "# At which threshold F1 is maximal?\n",
    "df_scores.sort_values('f1',ascending=False).head(1)\n",
    "# 0.1\n",
    "# --> 0.4 <--\n",
    "# 0.6\n",
    "# 0.7"
   ]
  },
  {
   "cell_type": "code",
   "execution_count": 76,
   "id": "0b840ac2",
   "metadata": {},
   "outputs": [],
   "source": [
    "# Question 5\n",
    "# Use the KFold class from Scikit-Learn to evaluate our model on 5 different folds:\n",
    "\n",
    "# KFold(n_splits=5, shuffle=True, random_state=1)\n",
    "# Iterate over different folds of df_full_train\n",
    "# Split the data into train and validation\n",
    "# Train the model on train with these parameters: LogisticRegression(solver='liblinear', C=1.0, max_iter=1000)\n",
    "# Use AUC to evaluate the model on validation\n",
    "\n",
    "# copy-pasting functions train() and predict() from slides notebook to make below more easily readyble\n",
    "def train(df_train, y_train, C=1.0):\n",
    "    # dicts = df_train[categorical + numerical].to_dict(orient='records')\n",
    "    dicts = df_train.to_dict(orient='records')\n",
    "\n",
    "    dv = DictVectorizer(sparse=False)\n",
    "    X_train = dv.fit_transform(dicts)\n",
    "\n",
    "    model = LogisticRegression(C=C, max_iter=1000)\n",
    "    model.fit(X_train, y_train)\n",
    "    \n",
    "    return dv, model\n",
    "\n",
    "def predict(df, dv, model):\n",
    "    # dicts = df[categorical + numerical].to_dict(orient='records')\n",
    "    dicts = df.to_dict(orient='records') # not doing above here, all are cat or num\n",
    "\n",
    "    X = dv.transform(dicts)\n",
    "    y_pred = model.predict_proba(X)[:, 1]\n",
    "\n",
    "    return y_pred"
   ]
  },
  {
   "cell_type": "code",
   "execution_count": 77,
   "id": "3996cb2e",
   "metadata": {},
   "outputs": [],
   "source": [
    "kfold = KFold(n_splits = 5, shuffle = True, random_state = 1)\n",
    "# kfold.split(X_train)"
   ]
  },
  {
   "cell_type": "code",
   "execution_count": 83,
   "id": "f1c7ac95",
   "metadata": {},
   "outputs": [
    {
     "name": "stdout",
     "output_type": "stream",
     "text": [
      "(844, 11) (211, 11)\n",
      "(844,) (211,)\n",
      "(844, 11) (211, 11)\n",
      "(844,) (211,)\n",
      "(844, 11) (211, 11)\n",
      "(844,) (211,)\n",
      "(844, 11) (211, 11)\n",
      "(844,) (211,)\n",
      "(844, 11) (211, 11)\n",
      "(844,) (211,)\n"
     ]
    }
   ],
   "source": [
    "# Iterate over different folds of df_full_train\n",
    "\n",
    "scores = []\n",
    "\n",
    "for train_idx, val_idx in kfold.split(X_train_valid_q2):\n",
    "    \n",
    "    df_train = X_train_valid_q2.iloc[train_idx]\n",
    "    df_val = X_train_valid_q2.iloc[val_idx]\n",
    "\n",
    "    y_train = y_train_valid.card.values[train_idx]\n",
    "    y_val = y_train_valid.card.values[val_idx]\n",
    "\n",
    "    dv, model = train(df_train, y_train, C=1)\n",
    "    \n",
    "    y_pred = predict(df_val, dv, model)\n",
    "\n",
    "    auc = roc_auc_score(y_val, y_pred)\n",
    "    scores.append(auc)"
   ]
  },
  {
   "cell_type": "code",
   "execution_count": 87,
   "id": "d2a15232",
   "metadata": {},
   "outputs": [
    {
     "name": "stdout",
     "output_type": "stream",
     "text": [
      "The standard deviation of the AUC scores across folds is 0.003\n"
     ]
    }
   ],
   "source": [
    "print('The standard deviation of the AUC scores across folds is', round(np.std(scores), 3))"
   ]
  },
  {
   "cell_type": "code",
   "execution_count": null,
   "id": "4abf973d",
   "metadata": {},
   "outputs": [],
   "source": [
    "# How large is standard devidation of the AUC scores across different folds?\n",
    "# --> 0.003 <--\n",
    "# 0.014\n",
    "# 0.09\n",
    "# 0.24"
   ]
  },
  {
   "cell_type": "code",
   "execution_count": 89,
   "id": "ebd36c84",
   "metadata": {},
   "outputs": [
    {
     "name": "stdout",
     "output_type": "stream",
     "text": [
      "C=0.01, 0.995 +- 0.004\n",
      "C= 0.1, 0.997 +- 0.003\n",
      "C=   1, 0.996 +- 0.003\n",
      "C=  10, 0.997 +- 0.003\n"
     ]
    }
   ],
   "source": [
    "# Question 6\n",
    "# Now let's use 5-Fold cross-validation to find the best parameter C\n",
    "# Iterate over the following C values: [0.01, 0.1, 1, 10]\n",
    "# Initialize KFold with the same parameters as previously\n",
    "# Use these parametes for the model: LogisticRegression(solver='liblinear', C=C, max_iter=1000)\n",
    "for C in [0.01, 0.1, 1, 10]:\n",
    "    scores = []\n",
    "\n",
    "    for train_idx, val_idx in kfold.split(X_train_valid_q2):\n",
    "        df_train = X_train_valid_q2.iloc[train_idx]\n",
    "        df_val = X_train_valid_q2.iloc[val_idx]\n",
    "\n",
    "        y_train = y_train_valid.card.values[train_idx]\n",
    "        y_val = y_train_valid.card.values[val_idx]\n",
    "\n",
    "        dv, model = train(df_train, y_train, C=C)\n",
    "        y_pred = predict(df_val, dv, model)\n",
    "\n",
    "        auc = roc_auc_score(y_val, y_pred)\n",
    "        scores.append(auc)\n",
    "\n",
    "    print('C=%4s, %.3f +- %.3f' % (C, np.mean(scores), np.std(scores)))\n",
    "\n",
    "# Compute the mean score as well as the std (round the mean and std to 3 decimal digits)\n",
    "# Which C leads to the best mean score?\n",
    "# 0.01\n",
    "# --> 0.1 <-- see below\n",
    "# 1\n",
    "# 10\n",
    "# If you have ties, select the score with the lowest std. If you still have ties, select the smallest C\n",
    "\n",
    "# best (highest) mean score: C=0.1 and C=10 --> tied!\n",
    "# std for C=0.1 and C=10: 0.003 --> still tied!\n",
    "# smallest C between tied candidates: 0.1"
   ]
  },
  {
   "cell_type": "code",
   "execution_count": null,
   "id": "d4dbf07f",
   "metadata": {},
   "outputs": [],
   "source": []
  }
 ],
 "metadata": {
  "kernelspec": {
   "display_name": "Python 3 (ipykernel)",
   "language": "python",
   "name": "python3"
  },
  "language_info": {
   "codemirror_mode": {
    "name": "ipython",
    "version": 3
   },
   "file_extension": ".py",
   "mimetype": "text/x-python",
   "name": "python",
   "nbconvert_exporter": "python",
   "pygments_lexer": "ipython3",
   "version": "3.9.12"
  }
 },
 "nbformat": 4,
 "nbformat_minor": 5
}
