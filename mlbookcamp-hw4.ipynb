{
 "cells": [
  {
   "cell_type": "code",
   "execution_count": 73,
   "id": "22bd183c",
   "metadata": {},
   "outputs": [],
   "source": [
    "import math # for sqrt...\n",
    "import pandas as pd\n",
    "import numpy as np\n",
    "import matplotlib as mpl\n",
    "import seaborn as sb\n",
    "from sklearn.model_selection import train_test_split # for train test split\n",
    "from sklearn.metrics import mutual_info_score # for mutual information score\n",
    "from sklearn.metrics import accuracy_score # for accuracy score\n",
    "from sklearn.metrics import mean_squared_error # for q6\n",
    "from sklearn.feature_extraction import DictVectorizer # for one-hot encoding\n",
    "from sklearn.linear_model import LogisticRegression # for log reg\n",
    "from sklearn.linear_model import Ridge # for q6\n",
    "import pickle\n",
    "\n",
    "from sklearn.metrics import roc_auc_score # for hw4 q1\n",
    "from matplotlib import pyplot as plt # for hw4 q3\n",
    "%matplotlib inline\n",
    "from sklearn.model_selection import KFold # for hw4 q5"
   ]
  },
  {
   "cell_type": "code",
   "execution_count": 74,
   "id": "891fd335",
   "metadata": {},
   "outputs": [],
   "source": [
    "df = pd.read_csv(\"AER_credit_card_data.csv\")\n",
    "# The goal of this homework is to inspect the output of different evaluation metrics \n",
    "# by creating a classification model (target column card)."
   ]
  },
  {
   "cell_type": "code",
   "execution_count": 75,
   "id": "d53b2a8a",
   "metadata": {},
   "outputs": [],
   "source": [
    "# Preparation\n",
    "# Create the target variable by mapping yes to 1 and no to 0.\n",
    "df['card'] = df['card'].map(dict(yes=1, no=0)) # <-- target\n",
    "df['owner'] = df['owner'].map(dict(yes=1, no=0))\n",
    "df['selfemp'] = df['selfemp'].map(dict(yes=1, no=0))\n",
    "# df.head()"
   ]
  },
  {
   "cell_type": "code",
   "execution_count": 76,
   "id": "5402e333",
   "metadata": {},
   "outputs": [],
   "source": [
    "# Split the dataset into 3 parts: train/validation/test with 60%/20%/20% distribution. \n",
    "# Use train_test_split funciton for that with random_state=1.\n",
    "X_train_valid, X_test, y_train_valid, y_test = train_test_split(\n",
    "    df.drop('card', axis = 1),\n",
    "    df[['card']],\n",
    "    train_size = 0.8,\n",
    "    test_size = 0.2,\n",
    "    random_state = 1)\n",
    "# print(df.shape)\n",
    "# print()\n",
    "# print(X_train_valid.shape)\n",
    "# print(y_train_valid.shape)\n",
    "# print()\n",
    "# print(X_test.shape)\n",
    "# print(y_test.shape)\n",
    "\n",
    "X_train, X_valid, y_train, y_valid = train_test_split(\n",
    "    X_train_valid,\n",
    "    y_train_valid,\n",
    "    train_size = 0.75,\n",
    "    test_size = 0.25,\n",
    "    shuffle = False)\n",
    "# print(X_train.shape)\n",
    "# print(y_train.shape)\n",
    "# print()\n",
    "# print(X_valid.shape)\n",
    "# print(y_valid.shape)"
   ]
  },
  {
   "cell_type": "code",
   "execution_count": 77,
   "id": "22a7d667",
   "metadata": {},
   "outputs": [
    {
     "name": "stdout",
     "output_type": "stream",
     "text": [
      "0.7248644385290347\n",
      "0.5297643695159223\n",
      "0.5967958197771863\n",
      "0.9867396233855862\n"
     ]
    }
   ],
   "source": [
    "# Question 1\n",
    "# ROC AUC could also be used to evaluate feature importance of numerical variables.\n",
    "# Let's do that\n",
    "\n",
    "# For each numerical variable, use it as score and compute AUC with the card variable.\n",
    "# Use the training dataset for that.\n",
    "# If your AUC is < 0.5, invert this variable by putting \"-\" in front\n",
    "roc_auc_reports = roc_auc_score(y_train, -X_train[['reports']])\n",
    "print(roc_auc_reports)\n",
    "\n",
    "roc_auc_dependents = roc_auc_score(y_train, -X_train[['dependents']])\n",
    "print(roc_auc_dependents)\n",
    "\n",
    "roc_auc_active = roc_auc_score(y_train, X_train[['active']])\n",
    "print(roc_auc_active)\n",
    "\n",
    "roc_auc_share = roc_auc_score(y_train, X_train[['share']])\n",
    "print(roc_auc_share)\n",
    "\n",
    "# numerical variables: reports, age, income, share, expenditure, dependents, months, active\n",
    "# relevant for question: reports, dependents, active, share\n",
    "\n",
    "# (e.g. -df_train['expenditure'])\n",
    "# AUC can go below 0.5 if the variable is negatively correlated with the target varialble. You can change the direction of the correlation by negating this variable - then negative correlation becomes positive.\n",
    "\n",
    "# Which numerical variable (among the following 4) has the highest AUC?\n",
    "# reports\n",
    "# dependents\n",
    "# active\n",
    "# --> share <--"
   ]
  },
  {
   "cell_type": "code",
   "execution_count": 78,
   "id": "a1c5d2c3",
   "metadata": {},
   "outputs": [],
   "source": [
    "# Training the model\n",
    "# From now on, use these columns only:\n",
    "columns_to_use = [\"reports\", \"age\", \"income\", \"share\", \"expenditure\", \"dependents\", \"months\", \"majorcards\", \"active\", \"owner\", \"selfemp\"]\n",
    "columns_to_use\n",
    "X_train_q2 = X_train[columns_to_use].copy()\n",
    "X_valid_q2 = X_valid[columns_to_use].copy()\n",
    "X_test_q2 = X_test[columns_to_use].copy()\n",
    "# Apply one-hot-encoding using DictVectorizer \n"
   ]
  },
  {
   "cell_type": "code",
   "execution_count": 79,
   "id": "4207c507",
   "metadata": {},
   "outputs": [
    {
     "data": {
      "text/html": [
       "<div>\n",
       "<style scoped>\n",
       "    .dataframe tbody tr th:only-of-type {\n",
       "        vertical-align: middle;\n",
       "    }\n",
       "\n",
       "    .dataframe tbody tr th {\n",
       "        vertical-align: top;\n",
       "    }\n",
       "\n",
       "    .dataframe thead th {\n",
       "        text-align: right;\n",
       "    }\n",
       "</style>\n",
       "<table border=\"1\" class=\"dataframe\">\n",
       "  <thead>\n",
       "    <tr style=\"text-align: right;\">\n",
       "      <th></th>\n",
       "      <th>reports</th>\n",
       "      <th>age</th>\n",
       "      <th>income</th>\n",
       "      <th>share</th>\n",
       "      <th>expenditure</th>\n",
       "      <th>dependents</th>\n",
       "      <th>months</th>\n",
       "      <th>majorcards</th>\n",
       "      <th>active</th>\n",
       "      <th>owner</th>\n",
       "      <th>selfemp</th>\n",
       "    </tr>\n",
       "  </thead>\n",
       "  <tbody>\n",
       "    <tr>\n",
       "      <th>710</th>\n",
       "      <td>1</td>\n",
       "      <td>36.83333</td>\n",
       "      <td>3.0000</td>\n",
       "      <td>0.000400</td>\n",
       "      <td>0.000000</td>\n",
       "      <td>1</td>\n",
       "      <td>12</td>\n",
       "      <td>1</td>\n",
       "      <td>16</td>\n",
       "      <td>1</td>\n",
       "      <td>0</td>\n",
       "    </tr>\n",
       "    <tr>\n",
       "      <th>1258</th>\n",
       "      <td>0</td>\n",
       "      <td>35.58333</td>\n",
       "      <td>3.5606</td>\n",
       "      <td>0.109084</td>\n",
       "      <td>323.587500</td>\n",
       "      <td>0</td>\n",
       "      <td>12</td>\n",
       "      <td>1</td>\n",
       "      <td>0</td>\n",
       "      <td>0</td>\n",
       "      <td>0</td>\n",
       "    </tr>\n",
       "    <tr>\n",
       "      <th>435</th>\n",
       "      <td>0</td>\n",
       "      <td>25.66667</td>\n",
       "      <td>2.0000</td>\n",
       "      <td>0.004900</td>\n",
       "      <td>7.416667</td>\n",
       "      <td>0</td>\n",
       "      <td>26</td>\n",
       "      <td>1</td>\n",
       "      <td>13</td>\n",
       "      <td>0</td>\n",
       "      <td>0</td>\n",
       "    </tr>\n",
       "    <tr>\n",
       "      <th>987</th>\n",
       "      <td>0</td>\n",
       "      <td>25.58333</td>\n",
       "      <td>1.7500</td>\n",
       "      <td>0.000686</td>\n",
       "      <td>0.000000</td>\n",
       "      <td>0</td>\n",
       "      <td>108</td>\n",
       "      <td>0</td>\n",
       "      <td>0</td>\n",
       "      <td>0</td>\n",
       "      <td>0</td>\n",
       "    </tr>\n",
       "    <tr>\n",
       "      <th>1286</th>\n",
       "      <td>1</td>\n",
       "      <td>48.66667</td>\n",
       "      <td>6.0000</td>\n",
       "      <td>0.177017</td>\n",
       "      <td>885.085800</td>\n",
       "      <td>3</td>\n",
       "      <td>114</td>\n",
       "      <td>1</td>\n",
       "      <td>19</td>\n",
       "      <td>1</td>\n",
       "      <td>0</td>\n",
       "    </tr>\n",
       "  </tbody>\n",
       "</table>\n",
       "</div>"
      ],
      "text/plain": [
       "      reports       age  income     share  expenditure  dependents  months  \\\n",
       "710         1  36.83333  3.0000  0.000400     0.000000           1      12   \n",
       "1258        0  35.58333  3.5606  0.109084   323.587500           0      12   \n",
       "435         0  25.66667  2.0000  0.004900     7.416667           0      26   \n",
       "987         0  25.58333  1.7500  0.000686     0.000000           0     108   \n",
       "1286        1  48.66667  6.0000  0.177017   885.085800           3     114   \n",
       "\n",
       "      majorcards  active  owner  selfemp  \n",
       "710            1      16      1        0  \n",
       "1258           1       0      0        0  \n",
       "435            1      13      0        0  \n",
       "987            0       0      0        0  \n",
       "1286           1      19      1        0  "
      ]
     },
     "execution_count": 79,
     "metadata": {},
     "output_type": "execute_result"
    }
   ],
   "source": [
    "X_train_q2.head()"
   ]
  },
  {
   "cell_type": "code",
   "execution_count": 80,
   "id": "fd917192",
   "metadata": {},
   "outputs": [],
   "source": [
    "train_dict = X_train_q2.to_dict(orient='records')\n",
    "# print(train_dict)\n",
    "dv = DictVectorizer(sparse=False)\n",
    "dv.fit(train_dict)\n",
    "# print(dv.get_feature_names_out())\n",
    "X_train_q2 = dv.transform(train_dict)\n",
    "\n",
    "valid_dict = X_valid_q2.to_dict(orient='records')\n",
    "dv = DictVectorizer(sparse=False)\n",
    "dv.fit(valid_dict)\n",
    "X_valid_q2 = dv.transform(valid_dict)\n",
    "\n",
    "test_dict = X_test_q2.to_dict(orient='records')\n",
    "dv = DictVectorizer(sparse=False)\n",
    "dv.fit(test_dict)\n",
    "X_test_q2 = dv.transform(test_dict)\n"
   ]
  },
  {
   "cell_type": "code",
   "execution_count": 81,
   "id": "caea9c4f",
   "metadata": {},
   "outputs": [],
   "source": [
    "# and train the logistic regression with these parameters:\n",
    "model_q2 = LogisticRegression(solver='liblinear', C=1.0, max_iter=1000)\n",
    "model_q2.fit(X_train_q2, y_train.values.ravel())\n",
    "card_valid_pred_q2 = model_q2.predict(X_valid_q2)"
   ]
  },
  {
   "cell_type": "code",
   "execution_count": 129,
   "id": "d1b3f531",
   "metadata": {},
   "outputs": [],
   "source": [
    "card_valid_pred_proba = model_q2.predict_proba(X_valid_q2)[:, 1]#.round(3)\n",
    "#card_valid_pred_proba"
   ]
  },
  {
   "cell_type": "code",
   "execution_count": 130,
   "id": "af854919",
   "metadata": {},
   "outputs": [
    {
     "data": {
      "text/plain": [
       "0.971"
      ]
     },
     "execution_count": 130,
     "metadata": {},
     "output_type": "execute_result"
    }
   ],
   "source": [
    "# Question 2\n",
    "# What's the AUC of this model on the validation dataset? (round to 3 digits)\n",
    "\n",
    "round(roc_auc_score(y_valid, card_valid_pred_q2),3)\n",
    "\n",
    "# 0.615\n",
    "# 0.515\n",
    "# 0.715\n",
    "# --> 0.995 <--"
   ]
  },
  {
   "cell_type": "code",
   "execution_count": 131,
   "id": "30c9cfbf",
   "metadata": {},
   "outputs": [],
   "source": [
    "\n",
    "#print(np.array(card_valid_pred_proba).shape)\n",
    "#print(np.array(y_valid.values).shape)"
   ]
  },
  {
   "cell_type": "code",
   "execution_count": 135,
   "id": "7f852be6",
   "metadata": {},
   "outputs": [],
   "source": [
    "# Question 3\n",
    "# Now let's compute precision and recall for our model.\n",
    "# Evaluate the model on all thresholds from 0.0 to 1.0 with step 0.01\n",
    "thresholds = np.linspace(0, 1, 101)\n",
    "thresholds\n",
    "# For each threshold, compute precision and recall\n",
    "precision = []\n",
    "recall = []\n",
    "\n",
    "for t in thresholds:\n",
    "    true_positive = ((card_valid_pred_proba >= t) &\n",
    "                     (y_valid.card.values == 1)).sum()\n",
    "    # print(true_positive)\n",
    "    false_positive = ((card_valid_pred_proba >= t) &\n",
    "                      (y_valid.card.values == 0)).sum()\n",
    "    # print(false_positive)\n",
    "    false_negative = ((card_valid_pred_proba < t) &\n",
    "                      (y_valid.card.values == 1)).sum()\n",
    "    # print(false_negative)\n",
    "    true_negative = ((card_valid_pred_proba < t) &\n",
    "                     (y_valid.card.values == 0)).sum()\n",
    "    # print(true_negative)\n",
    "    prec = true_positive / (true_positive + false_positive)\n",
    "    reca = true_positive / (true_positive + false_negative)\n",
    "    precision.append(prec)\n",
    "    recall.append(reca)\n",
    "    #print('%0.2f %0.2f %0.3f' % (t, prec, reca))\n"
   ]
  },
  {
   "cell_type": "code",
   "execution_count": 136,
   "id": "db3a8dcb",
   "metadata": {},
   "outputs": [
    {
     "data": {
      "image/png": "[encoded data removed]",
      "text/plain": [
       "<Figure size 432x288 with 1 Axes>"
      ]
     },
     "metadata": {
      "needs_background": "light"
     },
     "output_type": "display_data"
    }
   ],
   "source": [
    "plt.figure(figsize=(6, 4))\n",
    "\n",
    "plt.plot(thresholds, precision, color='blue')\n",
    "plt.plot(thresholds, recall, color='green')\n",
    "\n",
    "plt.title('Precision (blue) and Recall (green) vs Threshold')\n",
    "plt.xlabel('Threshold')\n",
    "plt.ylabel('Precision and Recall')\n",
    "\n",
    "plt.xticks(np.linspace(0, 1, 11))\n",
    "\n",
    "# plt.savefig('04_threshold_accuracy.svg')\n",
    "\n",
    "plt.show()"
   ]
  },
  {
   "cell_type": "code",
   "execution_count": 14,
   "id": "0e296f14",
   "metadata": {},
   "outputs": [],
   "source": [
    "# Plot them\n",
    "# At which threshold precision and recall curves intersect?\n",
    "# 0.1\n",
    "# 0.3\n",
    "# --> 0.6 <--\n",
    "# 0.8"
   ]
  },
  {
   "cell_type": "code",
   "execution_count": 148,
   "id": "4c8aca7e",
   "metadata": {
    "scrolled": true
   },
   "outputs": [
    {
     "name": "stdout",
     "output_type": "stream",
     "text": [
      "[0.8496732026143791, 0.8924485125858123, 0.9069767441860465, 0.9112149532710281, 0.919431279620853, 0.9238095238095239, 0.9282296650717703, 0.9301204819277108, 0.9301204819277108, 0.9323671497584541, 0.9323671497584541, 0.9346246973365618, 0.9346246973365618, 0.9368932038834952, 0.9368932038834952, 0.9460784313725491, 0.9507389162561577, 0.9507389162561577, 0.9554455445544554, 0.9650000000000001, 0.9650000000000001, 0.9674185463659147, 0.9674185463659147, 0.9698492462311559, 0.9747474747474748, 0.9772151898734178, 0.9772151898734178, 0.9796954314720812, 0.9796954314720812, 0.9796954314720812, 0.9796954314720812, 0.9821882951653944, 0.9821882951653944, 0.9821882951653944, 0.9821882951653944, 0.979591836734694, 0.979591836734694, 0.979591836734694, 0.979591836734694, 0.979591836734694, 0.979591836734694, 0.979591836734694, 0.979591836734694, 0.979591836734694, 0.979591836734694, 0.9846153846153847, 0.9846153846153847, 0.9846153846153847, 0.9846153846153847, 0.9846153846153847, 0.9846153846153847, 0.9846153846153847, 0.9846153846153847, 0.9846153846153847, 0.9846153846153847, 0.9846153846153847, 0.9846153846153847, 0.9846153846153847, 0.9820051413881747, 0.9820051413881747, 0.9820051413881747, 0.979381443298969, 0.979381443298969, 0.979381443298969, 0.9819121447028424, 0.9844559585492229, 0.9844559585492229, 0.9844559585492229, 0.9844559585492229, 0.9844559585492229, 0.9844559585492229, 0.9844559585492229, 0.9844559585492229, 0.9844559585492229, 0.9844559585492229, 0.9844559585492229, 0.9844559585492229, 0.9844559585492229, 0.9844559585492229, 0.9844559585492229, 0.9844559585492229, 0.9844559585492229, 0.9844559585492229, 0.9844559585492229, 0.9844559585492229, 0.9844559585492229, 0.9844559585492229, 0.9844559585492229, 0.9844559585492229, 0.9844559585492229, 0.9844559585492229, 0.9870129870129869, 0.9870129870129869, 0.9870129870129869, 0.9870129870129869, 0.9870129870129869, 0.9870129870129869, 0.9870129870129869, 0.9870129870129869, 0.9843749999999999, 0.9344262295081968]\n"
     ]
    }
   ],
   "source": [
    "# Question 4\n",
    "# Precision and recall are conflicting - when one grows, the other goes down. \n",
    "# That's why they are often combined into the F1 score - a metrics that takes into account both\n",
    "# This is the formula for computing F1:\n",
    "# F1 = 2 * P * R / (P + R)\n",
    "# Where P is precision and R is recall.\n",
    "# Let's compute F1 for all thresholds from 0.0 to 1.0 with increment 0.01\n",
    "f1 = []\n",
    "for t in thresholds:\n",
    "    true_positive = ((card_valid_pred_proba >= t) & (y_valid.card.values == 1)).sum()\n",
    "    false_positive = ((card_valid_pred_proba >= t) & (y_valid.card.values == 0)).sum()\n",
    "    false_negative = ((card_valid_pred_proba < t) & (y_valid.card.values == 1)).sum()\n",
    "    true_negative = ((card_valid_pred_proba < t) & (y_valid.card.values == 0)).sum()\n",
    "    prec = true_positive / (true_positive + false_positive)\n",
    "    reca = true_positive / (true_positive + false_negative)\n",
    "    #precision.append(prec)\n",
    "    #recall.append(reca)\n",
    "    f1_t = 2 * prec * reca / ( prec + reca )\n",
    "    f1.append(f1_t)\n",
    "    #print('%0.2f %0.3f' % (t, f1_t))\n",
    "\n",
    "# At which threshold F1 is maximal?\n",
    "# 0.1\n",
    "# 0.4\n",
    "# 0.6\n",
    "# --> 0.7 <-- ?"
   ]
  },
  {
   "cell_type": "code",
   "execution_count": 139,
   "id": "819f094d",
   "metadata": {},
   "outputs": [
    {
     "data": {
      "image/png": "[encoded data removed]",
      "text/plain": [
       "<Figure size 432x288 with 1 Axes>"
      ]
     },
     "metadata": {
      "needs_background": "light"
     },
     "output_type": "display_data"
    }
   ],
   "source": [
    "plt.figure(figsize=(6, 4))\n",
    "\n",
    "plt.plot(thresholds, f1, color='red')\n",
    "\n",
    "plt.title('F1 score vs Threshold')\n",
    "plt.xlabel('Threshold')\n",
    "plt.ylabel('F1 score')\n",
    "\n",
    "plt.xticks(np.linspace(0, 1, 11))\n",
    "\n",
    "# plt.savefig('04_threshold_accuracy.svg')\n",
    "\n",
    "plt.show()"
   ]
  },
  {
   "cell_type": "code",
   "execution_count": 16,
   "id": "0b840ac2",
   "metadata": {},
   "outputs": [],
   "source": [
    "# Question 5\n",
    "# Use the KFold class from Scikit-Learn to evaluate our model on 5 different folds:\n",
    "\n",
    "# KFold(n_splits=5, shuffle=True, random_state=1)\n",
    "# Iterate over different folds of df_full_train\n",
    "# Split the data into train and validation\n",
    "# Train the model on train with these parameters: LogisticRegression(solver='liblinear', C=1.0, max_iter=1000)\n",
    "# Use AUC to evaluate the model on validation\n"
   ]
  },
  {
   "cell_type": "code",
   "execution_count": 18,
   "id": "3996cb2e",
   "metadata": {},
   "outputs": [
    {
     "data": {
      "text/plain": [
       "<generator object _BaseKFold.split at 0x7ff075b69e40>"
      ]
     },
     "execution_count": 18,
     "metadata": {},
     "output_type": "execute_result"
    }
   ],
   "source": [
    "kfold = KFold(n_splits = 5, shuffle = True, random_state = 1)\n",
    "kfold.split(X_train)"
   ]
  },
  {
   "cell_type": "code",
   "execution_count": null,
   "id": "f1c7ac95",
   "metadata": {},
   "outputs": [],
   "source": [
    "kfold = KFold(n_splits = 5, shuffle = True, random_state = 1)\n",
    "\n",
    "scores = []\n",
    "\n",
    "for train_idx, val_idx in kfold.split(df_full_train):\n",
    "    df_train = df_full_train.iloc[train_idx]\n",
    "    df_val = df_full_train.iloc[val_idx]\n",
    "    \n",
    "    y_train = df_train.churn.values\n",
    "    y_val = df_val.churn.values\n",
    "    \n",
    "    dv, model = train(df_train, y_train, C=C)\n",
    "    y_pred = predict(df_val, dv, model)\n",
    "    \n",
    "    auc = roc_auc_score(y_val, y_pred)\n",
    "    scores.append(auc)\n",
    "    \n",
    "#print('C=%s %.3f +- %.3f' % (C, np.mean(scores), np.std(scores)))\n",
    "print(scores)"
   ]
  },
  {
   "cell_type": "code",
   "execution_count": null,
   "id": "4abf973d",
   "metadata": {},
   "outputs": [],
   "source": [
    "# How large is standard devidation of the AUC scores across different folds?\n",
    "# 0.003\n",
    "# 0.014\n",
    "# 0.09\n",
    "# 0.24"
   ]
  },
  {
   "cell_type": "code",
   "execution_count": null,
   "id": "ebd36c84",
   "metadata": {},
   "outputs": [],
   "source": [
    "# Question 6\n",
    "# Now let's use 5-Fold cross-validation to find the best parameter C\n",
    "# Iterate over the following C values: [0.01, 0.1, 1, 10]\n",
    "# Initialize KFold with the same parameters as previously\n",
    "# Use these parametes for the model: LogisticRegression(solver='liblinear', C=C, max_iter=1000)\n",
    "# Compute the mean score as well as the std (round the mean and std to 3 decimal digits)\n",
    "# Which C leads to the best mean score?\n",
    "# 0.01\n",
    "# 0.1\n",
    "# 1\n",
    "# 10\n",
    "# If you have ties, select the score with the lowest std. If you still have ties, select the smallest C"
   ]
  }
 ],
 "metadata": {
  "kernelspec": {
   "display_name": "Python 3 (ipykernel)",
   "language": "python",
   "name": "python3"
  },
  "language_info": {
   "codemirror_mode": {
    "name": "ipython",
    "version": 3
   },
   "file_extension": ".py",
   "mimetype": "text/x-python",
   "name": "python",
   "nbconvert_exporter": "python",
   "pygments_lexer": "ipython3",
   "version": "3.9.12"
  }
 },
 "nbformat": 4,
 "nbformat_minor": 5
}
