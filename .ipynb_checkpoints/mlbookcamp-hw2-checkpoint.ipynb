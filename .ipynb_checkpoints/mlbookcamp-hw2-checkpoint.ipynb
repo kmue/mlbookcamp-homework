{
 "cells": [
  {
   "cell_type": "code",
   "execution_count": 248,
   "id": "499c9c11",
   "metadata": {},
   "outputs": [],
   "source": [
    "import pandas as pd\n",
    "import numpy as np\n",
    "import matplotlib as mpl\n",
    "import seaborn as sb"
   ]
  },
  {
   "cell_type": "code",
   "execution_count": 249,
   "id": "5df0c460",
   "metadata": {},
   "outputs": [],
   "source": [
    "df = pd.read_csv(\"housing.csv\")"
   ]
  },
  {
   "cell_type": "code",
   "execution_count": 250,
   "id": "94df347e",
   "metadata": {},
   "outputs": [
    {
     "data": {
      "text/plain": [
       "Index(['longitude', 'latitude', 'housing_median_age', 'total_rooms',\n",
       "       'total_bedrooms', 'population', 'households', 'median_income',\n",
       "       'median_house_value', 'ocean_proximity'],\n",
       "      dtype='object')"
      ]
     },
     "execution_count": 250,
     "metadata": {},
     "output_type": "execute_result"
    }
   ],
   "source": [
    "df.columns"
   ]
  },
  {
   "cell_type": "code",
   "execution_count": 251,
   "id": "a70c548f",
   "metadata": {},
   "outputs": [
    {
     "data": {
      "text/html": [
       "<div>\n",
       "<style scoped>\n",
       "    .dataframe tbody tr th:only-of-type {\n",
       "        vertical-align: middle;\n",
       "    }\n",
       "\n",
       "    .dataframe tbody tr th {\n",
       "        vertical-align: top;\n",
       "    }\n",
       "\n",
       "    .dataframe thead th {\n",
       "        text-align: right;\n",
       "    }\n",
       "</style>\n",
       "<table border=\"1\" class=\"dataframe\">\n",
       "  <thead>\n",
       "    <tr style=\"text-align: right;\">\n",
       "      <th></th>\n",
       "      <th>longitude</th>\n",
       "      <th>latitude</th>\n",
       "      <th>housing_median_age</th>\n",
       "      <th>total_rooms</th>\n",
       "      <th>total_bedrooms</th>\n",
       "      <th>population</th>\n",
       "      <th>households</th>\n",
       "      <th>median_income</th>\n",
       "      <th>median_house_value</th>\n",
       "    </tr>\n",
       "  </thead>\n",
       "  <tbody>\n",
       "    <tr>\n",
       "      <th>count</th>\n",
       "      <td>20640.000000</td>\n",
       "      <td>20640.000000</td>\n",
       "      <td>20640.000000</td>\n",
       "      <td>20640.000000</td>\n",
       "      <td>20433.000000</td>\n",
       "      <td>20640.000000</td>\n",
       "      <td>20640.000000</td>\n",
       "      <td>20640.000000</td>\n",
       "      <td>20640.000000</td>\n",
       "    </tr>\n",
       "    <tr>\n",
       "      <th>mean</th>\n",
       "      <td>-119.569704</td>\n",
       "      <td>35.631861</td>\n",
       "      <td>28.639486</td>\n",
       "      <td>2635.763081</td>\n",
       "      <td>537.870553</td>\n",
       "      <td>1425.476744</td>\n",
       "      <td>499.539680</td>\n",
       "      <td>3.870671</td>\n",
       "      <td>206855.816909</td>\n",
       "    </tr>\n",
       "    <tr>\n",
       "      <th>std</th>\n",
       "      <td>2.003532</td>\n",
       "      <td>2.135952</td>\n",
       "      <td>12.585558</td>\n",
       "      <td>2181.615252</td>\n",
       "      <td>421.385070</td>\n",
       "      <td>1132.462122</td>\n",
       "      <td>382.329753</td>\n",
       "      <td>1.899822</td>\n",
       "      <td>115395.615874</td>\n",
       "    </tr>\n",
       "    <tr>\n",
       "      <th>min</th>\n",
       "      <td>-124.350000</td>\n",
       "      <td>32.540000</td>\n",
       "      <td>1.000000</td>\n",
       "      <td>2.000000</td>\n",
       "      <td>1.000000</td>\n",
       "      <td>3.000000</td>\n",
       "      <td>1.000000</td>\n",
       "      <td>0.499900</td>\n",
       "      <td>14999.000000</td>\n",
       "    </tr>\n",
       "    <tr>\n",
       "      <th>25%</th>\n",
       "      <td>-121.800000</td>\n",
       "      <td>33.930000</td>\n",
       "      <td>18.000000</td>\n",
       "      <td>1447.750000</td>\n",
       "      <td>296.000000</td>\n",
       "      <td>787.000000</td>\n",
       "      <td>280.000000</td>\n",
       "      <td>2.563400</td>\n",
       "      <td>119600.000000</td>\n",
       "    </tr>\n",
       "    <tr>\n",
       "      <th>50%</th>\n",
       "      <td>-118.490000</td>\n",
       "      <td>34.260000</td>\n",
       "      <td>29.000000</td>\n",
       "      <td>2127.000000</td>\n",
       "      <td>435.000000</td>\n",
       "      <td>1166.000000</td>\n",
       "      <td>409.000000</td>\n",
       "      <td>3.534800</td>\n",
       "      <td>179700.000000</td>\n",
       "    </tr>\n",
       "    <tr>\n",
       "      <th>75%</th>\n",
       "      <td>-118.010000</td>\n",
       "      <td>37.710000</td>\n",
       "      <td>37.000000</td>\n",
       "      <td>3148.000000</td>\n",
       "      <td>647.000000</td>\n",
       "      <td>1725.000000</td>\n",
       "      <td>605.000000</td>\n",
       "      <td>4.743250</td>\n",
       "      <td>264725.000000</td>\n",
       "    </tr>\n",
       "    <tr>\n",
       "      <th>max</th>\n",
       "      <td>-114.310000</td>\n",
       "      <td>41.950000</td>\n",
       "      <td>52.000000</td>\n",
       "      <td>39320.000000</td>\n",
       "      <td>6445.000000</td>\n",
       "      <td>35682.000000</td>\n",
       "      <td>6082.000000</td>\n",
       "      <td>15.000100</td>\n",
       "      <td>500001.000000</td>\n",
       "    </tr>\n",
       "  </tbody>\n",
       "</table>\n",
       "</div>"
      ],
      "text/plain": [
       "          longitude      latitude  housing_median_age   total_rooms  \\\n",
       "count  20640.000000  20640.000000        20640.000000  20640.000000   \n",
       "mean    -119.569704     35.631861           28.639486   2635.763081   \n",
       "std        2.003532      2.135952           12.585558   2181.615252   \n",
       "min     -124.350000     32.540000            1.000000      2.000000   \n",
       "25%     -121.800000     33.930000           18.000000   1447.750000   \n",
       "50%     -118.490000     34.260000           29.000000   2127.000000   \n",
       "75%     -118.010000     37.710000           37.000000   3148.000000   \n",
       "max     -114.310000     41.950000           52.000000  39320.000000   \n",
       "\n",
       "       total_bedrooms    population    households  median_income  \\\n",
       "count    20433.000000  20640.000000  20640.000000   20640.000000   \n",
       "mean       537.870553   1425.476744    499.539680       3.870671   \n",
       "std        421.385070   1132.462122    382.329753       1.899822   \n",
       "min          1.000000      3.000000      1.000000       0.499900   \n",
       "25%        296.000000    787.000000    280.000000       2.563400   \n",
       "50%        435.000000   1166.000000    409.000000       3.534800   \n",
       "75%        647.000000   1725.000000    605.000000       4.743250   \n",
       "max       6445.000000  35682.000000   6082.000000      15.000100   \n",
       "\n",
       "       median_house_value  \n",
       "count        20640.000000  \n",
       "mean        206855.816909  \n",
       "std         115395.615874  \n",
       "min          14999.000000  \n",
       "25%         119600.000000  \n",
       "50%         179700.000000  \n",
       "75%         264725.000000  \n",
       "max         500001.000000  "
      ]
     },
     "execution_count": 251,
     "metadata": {},
     "output_type": "execute_result"
    }
   ],
   "source": [
    "df.describe()"
   ]
  },
  {
   "cell_type": "code",
   "execution_count": 252,
   "id": "f63711c1",
   "metadata": {},
   "outputs": [
    {
     "data": {
      "text/plain": [
       "<AxesSubplot:ylabel='Frequency'>"
      ]
     },
     "execution_count": 252,
     "metadata": {},
     "output_type": "execute_result"
    },
    {
     "data": {
      "image/png": "[encoded data removed]",
      "text/plain": [
       "<Figure size 432x288 with 1 Axes>"
      ]
     },
     "metadata": {
      "needs_background": "light"
     },
     "output_type": "display_data"
    }
   ],
   "source": [
    "# Look at the median_house_value variable. Does it have a long tail?\n",
    "df['median_house_value'].plot.hist()"
   ]
  },
  {
   "cell_type": "code",
   "execution_count": 253,
   "id": "40c8bf9a",
   "metadata": {},
   "outputs": [
    {
     "data": {
      "text/plain": [
       "<AxesSubplot:ylabel='Frequency'>"
      ]
     },
     "execution_count": 253,
     "metadata": {},
     "output_type": "execute_result"
    },
    {
     "data": {
      "image/png": "[encoded data removed]",
      "text/plain": [
       "<Figure size 432x288 with 1 Axes>"
      ]
     },
     "metadata": {
      "needs_background": "light"
     },
     "output_type": "display_data"
    }
   ],
   "source": [
    "df['total_bedrooms'].plot.hist(bins=50)"
   ]
  },
  {
   "cell_type": "code",
   "execution_count": 254,
   "id": "8e66d2b1",
   "metadata": {},
   "outputs": [
    {
     "data": {
      "text/plain": [
       "500001.0    965\n",
       "137500.0    122\n",
       "162500.0    117\n",
       "112500.0    103\n",
       "187500.0     93\n",
       "           ... \n",
       "359200.0      1\n",
       "54900.0       1\n",
       "377600.0      1\n",
       "81200.0       1\n",
       "47000.0       1\n",
       "Name: median_house_value, Length: 3842, dtype: int64"
      ]
     },
     "execution_count": 254,
     "metadata": {},
     "output_type": "execute_result"
    }
   ],
   "source": [
    "df['median_house_value'].value_counts()\n",
    "# A: it appears as if values >500k are all grouped into value 500001, \n",
    "# making it the mode / most frequent unique value in the column \n",
    "# --> long tail contained here"
   ]
  },
  {
   "cell_type": "code",
   "execution_count": 255,
   "id": "a6de1570",
   "metadata": {},
   "outputs": [
    {
     "data": {
      "text/plain": [
       "(20640, 10)"
      ]
     },
     "execution_count": 255,
     "metadata": {},
     "output_type": "execute_result"
    }
   ],
   "source": [
    "df.shape"
   ]
  },
  {
   "cell_type": "code",
   "execution_count": 256,
   "id": "e0e9f81a",
   "metadata": {},
   "outputs": [
    {
     "data": {
      "text/plain": [
       "(20640, 9)"
      ]
     },
     "execution_count": 256,
     "metadata": {},
     "output_type": "execute_result"
    }
   ],
   "source": [
    "# For the rest of the homework, you'll need to use only these columns:\n",
    "# 'latitude',\n",
    "# 'longitude',\n",
    "# 'housing_median_age',\n",
    "# 'total_rooms',\n",
    "# 'total_bedrooms',\n",
    "# 'population',\n",
    "# 'households',\n",
    "# 'median_income',\n",
    "# 'median_house_value'\n",
    "# Select only them.\n",
    "\n",
    "df = df[['latitude',\n",
    "         'longitude',\n",
    "         'housing_median_age',\n",
    "         'total_rooms',\n",
    "         'total_bedrooms',\n",
    "         'population',\n",
    "         'households',\n",
    "         'median_income',\n",
    "         'median_house_value']]\n",
    "df.shape"
   ]
  },
  {
   "cell_type": "code",
   "execution_count": 257,
   "id": "b28a86d1",
   "metadata": {},
   "outputs": [
    {
     "data": {
      "text/plain": [
       "total_bedrooms    207\n",
       "dtype: int64"
      ]
     },
     "execution_count": 257,
     "metadata": {},
     "output_type": "execute_result"
    }
   ],
   "source": [
    "# Question 1\n",
    "# Find a feature with missing values. How many missing values does it have?\n",
    "# --> 207 <--\n",
    "# 208\n",
    "# 307\n",
    "# 308\n",
    "df.isna().sum()[df.isna().sum()>0]\n",
    "# A: total_bedrooms has 207 missing values"
   ]
  },
  {
   "cell_type": "code",
   "execution_count": 258,
   "id": "0441122c",
   "metadata": {},
   "outputs": [
    {
     "data": {
      "text/plain": [
       "1166.0"
      ]
     },
     "execution_count": 258,
     "metadata": {},
     "output_type": "execute_result"
    }
   ],
   "source": [
    "# Question 2\n",
    "\n",
    "# What's the median (50% percentile) for variable 'population'?\n",
    "# 1133\n",
    "# 1122\n",
    "# --> 1166 <--\n",
    "# 1188\n",
    "df['population'].median()\n",
    "# A: median of column 'population' is 1166"
   ]
  },
  {
   "cell_type": "code",
   "execution_count": 259,
   "id": "90e7ed7c",
   "metadata": {},
   "outputs": [
    {
     "data": {
      "text/html": [
       "<div>\n",
       "<style scoped>\n",
       "    .dataframe tbody tr th:only-of-type {\n",
       "        vertical-align: middle;\n",
       "    }\n",
       "\n",
       "    .dataframe tbody tr th {\n",
       "        vertical-align: top;\n",
       "    }\n",
       "\n",
       "    .dataframe thead th {\n",
       "        text-align: right;\n",
       "    }\n",
       "</style>\n",
       "<table border=\"1\" class=\"dataframe\">\n",
       "  <thead>\n",
       "    <tr style=\"text-align: right;\">\n",
       "      <th></th>\n",
       "      <th>latitude</th>\n",
       "      <th>longitude</th>\n",
       "      <th>housing_median_age</th>\n",
       "      <th>total_rooms</th>\n",
       "      <th>total_bedrooms</th>\n",
       "      <th>population</th>\n",
       "      <th>households</th>\n",
       "      <th>median_income</th>\n",
       "      <th>median_house_value</th>\n",
       "    </tr>\n",
       "  </thead>\n",
       "  <tbody>\n",
       "    <tr>\n",
       "      <th>0</th>\n",
       "      <td>36.06</td>\n",
       "      <td>-119.01</td>\n",
       "      <td>25.0</td>\n",
       "      <td>1505.0</td>\n",
       "      <td>NaN</td>\n",
       "      <td>1392.0</td>\n",
       "      <td>359.0</td>\n",
       "      <td>1.6812</td>\n",
       "      <td>47700.0</td>\n",
       "    </tr>\n",
       "    <tr>\n",
       "      <th>1</th>\n",
       "      <td>35.14</td>\n",
       "      <td>-119.46</td>\n",
       "      <td>30.0</td>\n",
       "      <td>2943.0</td>\n",
       "      <td>NaN</td>\n",
       "      <td>1565.0</td>\n",
       "      <td>584.0</td>\n",
       "      <td>2.5313</td>\n",
       "      <td>45800.0</td>\n",
       "    </tr>\n",
       "    <tr>\n",
       "      <th>2</th>\n",
       "      <td>37.80</td>\n",
       "      <td>-122.44</td>\n",
       "      <td>52.0</td>\n",
       "      <td>3830.0</td>\n",
       "      <td>NaN</td>\n",
       "      <td>1310.0</td>\n",
       "      <td>963.0</td>\n",
       "      <td>3.4801</td>\n",
       "      <td>500001.0</td>\n",
       "    </tr>\n",
       "    <tr>\n",
       "      <th>3</th>\n",
       "      <td>34.28</td>\n",
       "      <td>-118.72</td>\n",
       "      <td>17.0</td>\n",
       "      <td>3051.0</td>\n",
       "      <td>NaN</td>\n",
       "      <td>1705.0</td>\n",
       "      <td>495.0</td>\n",
       "      <td>5.7376</td>\n",
       "      <td>218600.0</td>\n",
       "    </tr>\n",
       "    <tr>\n",
       "      <th>4</th>\n",
       "      <td>36.62</td>\n",
       "      <td>-121.93</td>\n",
       "      <td>34.0</td>\n",
       "      <td>2351.0</td>\n",
       "      <td>NaN</td>\n",
       "      <td>1063.0</td>\n",
       "      <td>428.0</td>\n",
       "      <td>3.7250</td>\n",
       "      <td>278000.0</td>\n",
       "    </tr>\n",
       "  </tbody>\n",
       "</table>\n",
       "</div>"
      ],
      "text/plain": [
       "   latitude  longitude  housing_median_age  total_rooms  total_bedrooms  \\\n",
       "0     36.06    -119.01                25.0       1505.0             NaN   \n",
       "1     35.14    -119.46                30.0       2943.0             NaN   \n",
       "2     37.80    -122.44                52.0       3830.0             NaN   \n",
       "3     34.28    -118.72                17.0       3051.0             NaN   \n",
       "4     36.62    -121.93                34.0       2351.0             NaN   \n",
       "\n",
       "   population  households  median_income  median_house_value  \n",
       "0      1392.0       359.0         1.6812             47700.0  \n",
       "1      1565.0       584.0         2.5313             45800.0  \n",
       "2      1310.0       963.0         3.4801            500001.0  \n",
       "3      1705.0       495.0         5.7376            218600.0  \n",
       "4      1063.0       428.0         3.7250            278000.0  "
      ]
     },
     "execution_count": 259,
     "metadata": {},
     "output_type": "execute_result"
    }
   ],
   "source": [
    "# Split the data\n",
    "# Shuffle the initial dataset, use seed 42.\n",
    "df_shuffled = df.sample(frac = 1, # sample all data\n",
    "                        random_state = 42, # set seed\n",
    "                        ignore_index = True) # reset index (--> 0, ..., n-1 instead of original index)\n",
    "df_shuffled.head()"
   ]
  },
  {
   "cell_type": "code",
   "execution_count": 260,
   "id": "c42aadd1",
   "metadata": {},
   "outputs": [],
   "source": [
    "# Split your data in train/val/test sets, with 60%/20%/20% distribution.\n",
    "# Make sure that the target value ('median_house_value') is not in your dataframe.\n",
    "x_shuffled = df_shuffled.drop('median_house_value', axis = 1)\n",
    "x_train, x_valid, x_test = np.split(x_shuffled, [int(.6*len(df)), int(.8*len(df))])\n"
   ]
  },
  {
   "cell_type": "code",
   "execution_count": 261,
   "id": "fd743521",
   "metadata": {},
   "outputs": [
    {
     "name": "stdout",
     "output_type": "stream",
     "text": [
      "(12384, 8) (4128, 8) (4128, 8)\n"
     ]
    }
   ],
   "source": [
    "print(x_train.shape, x_valid.shape, x_test.shape)"
   ]
  },
  {
   "cell_type": "code",
   "execution_count": 262,
   "id": "9f4f5545",
   "metadata": {},
   "outputs": [],
   "source": [
    "# Apply the log transformation to the median_house_value variable using the np.log1p() function.\n",
    "y_shuffled = df_shuffled['median_house_value']\n",
    "logy_shuffled = np.log1p(y_shuffled).copy()\n",
    "logy_train, logy_validate, logy_test = np.split(logy_shuffled, [int(.6*len(df)), int(.8*len(df))])"
   ]
  },
  {
   "cell_type": "code",
   "execution_count": 263,
   "id": "eccde387",
   "metadata": {},
   "outputs": [],
   "source": [
    "# Question 3\n",
    "\n",
    "# We need to deal with missing values for the column from Q1.\n",
    "# We have two options: fill it with 0 or with the mean of this variable.\n",
    "x_train_fillzero = x_train.copy()\n",
    "x_train_fillzero['total_bedrooms'] = x_train['total_bedrooms'].fillna(0, inplace=False)\n",
    "\n",
    "x_train_fillmean = x_train.copy()\n",
    "x_train_fillmean['total_bedrooms'] = x_train['total_bedrooms'].fillna(x_train['total_bedrooms'].mean(),\n",
    "                                                                     inplace=False)\n",
    "\n",
    "x_train_fillmedian = x_train.copy()\n",
    "x_train_fillmedian['total_bedrooms'] = x_train['total_bedrooms'].fillna(x_train['total_bedrooms'].median(),\n",
    "                                                                     inplace=False)"
   ]
  },
  {
   "cell_type": "code",
   "execution_count": 264,
   "id": "2731e2ff",
   "metadata": {},
   "outputs": [
    {
     "name": "stdout",
     "output_type": "stream",
     "text": [
      "mean of total_bedrooms in x_train: 533.4803317730147\n",
      "mean of total_bedrooms in x_train_fillzero: 524.5631459948321\n",
      "mean of total_bedrooms in x_train_fillmean: 533.4803317730147\n"
     ]
    }
   ],
   "source": [
    "print('mean of total_bedrooms in x_train:', \n",
    "      x_train['total_bedrooms'].mean())\n",
    "print('mean of total_bedrooms in x_train_fillzero:',\n",
    "      x_train_fillzero['total_bedrooms'].mean())\n",
    "print('mean of total_bedrooms in x_train_fillmean:',\n",
    "      x_train_fillmean['total_bedrooms'].mean())"
   ]
  },
  {
   "cell_type": "code",
   "execution_count": 265,
   "id": "fa714317",
   "metadata": {},
   "outputs": [
    {
     "name": "stdout",
     "output_type": "stream",
     "text": [
      "Value counts of total_bedrooms in x_train: \n",
      " NaN       207\n",
      "328.0      38\n",
      "343.0      36\n",
      "345.0      34\n",
      "280.0      33\n",
      "         ... \n",
      "1997.0      1\n",
      "1444.0      1\n",
      "2139.0      1\n",
      "3493.0      1\n",
      "1415.0      1\n",
      "Name: total_bedrooms, Length: 1682, dtype: int64\n",
      "Value counts of total_bedrooms in x_train_fillzero: \n",
      " 0.0       207\n",
      "328.0      38\n",
      "343.0      36\n",
      "345.0      34\n",
      "280.0      33\n",
      "         ... \n",
      "1997.0      1\n",
      "1444.0      1\n",
      "2139.0      1\n",
      "3493.0      1\n",
      "1415.0      1\n",
      "Name: total_bedrooms, Length: 1682, dtype: int64\n",
      "Value counts of total_bedrooms in x_train_fillmean: \n",
      " 533.480332     207\n",
      "328.000000      38\n",
      "343.000000      36\n",
      "345.000000      34\n",
      "280.000000      33\n",
      "              ... \n",
      "1997.000000      1\n",
      "1444.000000      1\n",
      "2139.000000      1\n",
      "3493.000000      1\n",
      "1415.000000      1\n",
      "Name: total_bedrooms, Length: 1682, dtype: int64\n"
     ]
    }
   ],
   "source": [
    "print('Value counts of total_bedrooms in x_train: \\n',\n",
    "      x_train['total_bedrooms'].value_counts(dropna=False))\n",
    "print('Value counts of total_bedrooms in x_train_fillzero: \\n',\n",
    "      x_train_fillzero['total_bedrooms'].value_counts(dropna=False))\n",
    "print('Value counts of total_bedrooms in x_train_fillmean: \\n',\n",
    "      x_train_fillmean['total_bedrooms'].value_counts(dropna=False))"
   ]
  },
  {
   "cell_type": "code",
   "execution_count": 266,
   "id": "18631b92",
   "metadata": {},
   "outputs": [],
   "source": [
    "# Try both options. For each, train a linear regression model without \n",
    "# regularization using the code from the lessons.\n",
    "# For computing the mean, use the training only!\n",
    "# Use the validation dataset to evaluate the models and compare the RMSE of each option.\n",
    "\n",
    "def train_linear_regression(X, y):\n",
    "    ones = np.ones(X.shape[0])\n",
    "    X = np.column_stack([ones, X])\n",
    "\n",
    "    XTX = X.T.dot(X)\n",
    "    XTX_inv = np.linalg.inv(XTX)\n",
    "    w = XTX_inv.dot(X.T).dot(y)\n",
    "    \n",
    "    return w[0], w[1:]\n",
    "\n",
    "base = x_train.columns.values.copy()"
   ]
  },
  {
   "cell_type": "code",
   "execution_count": 267,
   "id": "6cb63439",
   "metadata": {},
   "outputs": [],
   "source": [
    "# fillna: zero\n",
    "w_0_fillzero, w_fillzero = train_linear_regression(x_train_fillzero, logy_train)\n",
    "\n",
    "# prepare x_valid using same logic as for x_train (replace total_bedroom NAs with 0)\n",
    "x_valid_fillzero = x_valid.copy()\n",
    "x_valid_fillzero['total_bedrooms'] = x_valid['total_bedrooms'].fillna(0, \n",
    "                                                                      inplace=False)\n",
    "\n",
    "# calculate predictions for x_valid\n",
    "logy_valid_pred_fillzero = w_0_fillzero + x_valid_fillzero.dot(w_fillzero)"
   ]
  },
  {
   "cell_type": "code",
   "execution_count": 268,
   "id": "921c2fc3",
   "metadata": {},
   "outputs": [],
   "source": [
    "# fillna: mean\n",
    "w_0_fillmean, w_fillmean = train_linear_regression(x_train_fillmean, logy_train)\n",
    "\n",
    "# prepare x_valid using same logic as for x_train (replace total_bedroom NAs with mean in x_valid)\n",
    "x_valid_fillmean = x_valid.copy()\n",
    "x_valid_fillmean['total_bedrooms'] = x_valid['total_bedrooms'].fillna(x_valid['total_bedrooms'].mean(),\n",
    "                                                                      inplace=False)\n",
    "\n",
    "# calculate predictions for x_valid\n",
    "logy_valid_pred_fillmean = w_0_fillmean + x_valid_fillmean.dot(w_fillmean)"
   ]
  },
  {
   "cell_type": "code",
   "execution_count": 269,
   "id": "bdcb428c",
   "metadata": {},
   "outputs": [],
   "source": [
    "# fillna: median\n",
    "w_0_fillmedian, w_fillmedian = train_linear_regression(x_train_fillmedian, logy_train)\n",
    "\n",
    "# prepare x_valid using same logic as for x_train (replace total_bedroom NAs with median in x_valid)\n",
    "x_valid_fillmedian = x_valid.copy()\n",
    "x_valid_fillmedian['total_bedrooms'] = x_valid['total_bedrooms'].fillna(x_valid['total_bedrooms'].median(),\n",
    "                                                                     inplace=False)\n",
    "\n",
    "# calculate predictions for x_valid\n",
    "logy_valid_pred_fillmedian = w_0_fillmedian + x_valid_fillmedian.dot(w_fillmedian)"
   ]
  },
  {
   "cell_type": "code",
   "execution_count": 270,
   "id": "75167919",
   "metadata": {},
   "outputs": [
    {
     "name": "stdout",
     "output_type": "stream",
     "text": [
      "RMSE of true logy_valid vs prediction based on x_valid_fillzero: \n",
      " 0.33\n",
      "RMSE of true logy_valid vs prediction based on x_valid_fillmean: \n",
      " 0.33\n",
      "RMSE of true logy_valid vs prediction based on x_valid_fillmedian: \n",
      " 0.33\n"
     ]
    }
   ],
   "source": [
    "def rmse(y, y_pred):\n",
    "    error = y_pred - y\n",
    "    mse = (error ** 2).mean()\n",
    "    return np.sqrt(mse)\n",
    "\n",
    "print('RMSE of true logy_valid vs prediction based on x_valid_fillzero: \\n',\n",
    "     round(rmse(logy_validate, logy_valid_pred_fillzero), 2))\n",
    "print('RMSE of true logy_valid vs prediction based on x_valid_fillmean: \\n',\n",
    "     round(rmse(logy_validate, logy_valid_pred_fillmean), 2))\n",
    "print('RMSE of true logy_valid vs prediction based on x_valid_fillmedian: \\n',\n",
    "     round(rmse(logy_validate, logy_valid_pred_fillmedian), 2))"
   ]
  },
  {
   "cell_type": "code",
   "execution_count": 271,
   "id": "7473f9b6",
   "metadata": {},
   "outputs": [],
   "source": [
    "# Round the RMSE scores to 2 decimal digits using round(score, 2)\n",
    "# Which option gives better RMSE?\n",
    "# With 0\n",
    "# With mean\n",
    "# With median\n",
    "# --> Both are equally good <--\n",
    "# A: RMSE of 0.33 for all approaches.. hm?"
   ]
  },
  {
   "cell_type": "code",
   "execution_count": 272,
   "id": "150adb62",
   "metadata": {},
   "outputs": [
    {
     "name": "stdout",
     "output_type": "stream",
     "text": [
      "     0 0.33\n",
      " 1e-06 0.33\n",
      "0.0001 0.33\n",
      " 0.001 0.33\n",
      "  0.01 0.33\n",
      "   0.1 0.33\n",
      "     1 0.33\n",
      "     5 0.34\n",
      "    10 0.34\n"
     ]
    }
   ],
   "source": [
    "# Question 4\n",
    "\n",
    "# Now let's train a regularized linear regression.\n",
    "def train_linear_regression_reg(X, y, r=0.0):\n",
    "    ones = np.ones(X.shape[0])\n",
    "    X = np.column_stack([ones, X])\n",
    "\n",
    "    XTX = X.T.dot(X)\n",
    "    reg = r * np.eye(XTX.shape[0])\n",
    "    XTX = XTX + reg\n",
    "\n",
    "    XTX_inv = np.linalg.inv(XTX)\n",
    "    w = XTX_inv.dot(X.T).dot(y)\n",
    "    \n",
    "    return w[0], w[1:]\n",
    "\n",
    "# For this question, fill the NAs with 0.\n",
    "# Try different values of r from this list: [0, 0.000001, 0.0001, 0.001, 0.01, 0.1, 1, 5, 10].\n",
    "for r in [0, 0.000001, 0.0001, 0.001, 0.01, 0.1, 1, 5, 10]:\n",
    "    w_0, w = train_linear_regression_reg(x_train_fillzero, \n",
    "                                         logy_train, \n",
    "                                         r = r)\n",
    "    logy_pred_fillzero = w_0 + x_valid_fillzero.dot(w)\n",
    "    print('%6s' %r, round(rmse(logy_validate, logy_pred_fillzero),2))\n",
    "\n",
    "# Use RMSE to evaluate the model on the validation dataset.\n",
    "# Round the RMSE scores to 2 decimal digits.\n",
    "\n",
    "# Which r gives the best RMSE? If there are multiple options, select the smallest r.\n",
    "# --> 0 <--\n",
    "# 0.000001\n",
    "# 0.001\n",
    "# 0.01"
   ]
  },
  {
   "cell_type": "code",
   "execution_count": 286,
   "id": "903a1b27",
   "metadata": {},
   "outputs": [
    {
     "name": "stdout",
     "output_type": "stream",
     "text": [
      "     0 0.72\n",
      "     1 0.72\n",
      "     2 0.71\n",
      "     3 0.71\n",
      "     4 0.72\n",
      "     5 0.73\n",
      "     6 0.71\n",
      "     7 0.71\n",
      "     8 0.71\n",
      "     9 0.72\n",
      "[0.7170567406013912, 0.7237685432771442, 0.7100439422338615, 0.7143885336605411, 0.7228819156007061, 0.7285264205670212, 0.7107493476390669, 0.7147065411486576, 0.711147799341097, 0.7176724065692189]\n",
      "Standard deviation of the RMSE list:  0.0059\n"
     ]
    }
   ],
   "source": [
    "# Question 5\n",
    "\n",
    "# We used seed 42 for splitting the data. Let's find out how selecting the seed influences our score.\n",
    "# Try different seed values: [0, 1, 2, 3, 4, 5, 6, 7, 8, 9].\n",
    "\n",
    "list_rmse = list()\n",
    "for seed in [0, 1, 2, 3, 4, 5, 6, 7, 8, 9]:\n",
    "    df_shuffled = df.sample(frac = 1, # sample all data\n",
    "                        random_state = seed, # set seed\n",
    "                        ignore_index = True) # reset index (--> 0, ..., n-1 instead of original index)\n",
    "    \n",
    "    # For each seed, do the train/validation/test split with 60%/20%/20% distribution.\n",
    "    x_shuffled = df_shuffled.drop('median_house_value', axis = 1)\n",
    "    x_train, x_valid, x_test = np.split(x_shuffled, [int(.6*len(df)), int(.8*len(df))])\n",
    "    \n",
    "    y_shuffled = df_shuffled['median_house_value']\n",
    "    logy_shuffled = np.log1p(y_shuffled).copy()\n",
    "    logy_train, logy_validate, logy_test = np.split(logy_shuffled, [int(.6*len(df)), int(.8*len(df))])\n",
    "    \n",
    "    # Fill the missing values with 0 \n",
    "    x_train_fillzero = x_train.copy()\n",
    "    x_train_fillzero['total_bedrooms'] = x_train['total_bedrooms'].fillna(0, inplace=False)\n",
    "    \n",
    "    # and train a model without regularization.\n",
    "    w_0_fillzero, w_fillzero = train_linear_regression(x_train_fillzero, logy_train)\n",
    "\n",
    "    logy_pred_fillzero = w_0 + x_valid_fillzero.dot(w)\n",
    "    \n",
    "    # For each seed, evaluate the model on the validation dataset and collect the RMSE scores.\n",
    "    print('%6s' %seed, round(rmse(logy_validate, logy_pred_fillzero),2))\n",
    "    \n",
    "    list_rmse.append(rmse(logy_validate, logy_pred_fillzero))\n",
    "\n",
    "print(list_rmse)\n",
    "\n",
    "std = np.std(list_rmse)\n",
    "print('Standard deviation of the RMSE list: ', round(std, 4))\n",
    "\n",
    "# What's the standard deviation of all the scores? To compute the standard deviation, use np.std.\n",
    "# Round the result to 3 decimal digits (round(std, 3))\n",
    "# Note: Standard deviation shows how different the values are. If it's low, then all values are approximately the same. If it's high, the values are different. If standard deviation of scores is low, then our model is stable.\n",
    "# 0.5\n",
    "# 0.05\n",
    "# --> 0.005 <-- \n",
    "# 0.0005\n",
    "\n",
    "# 0.0059 --> closest to 0.005"
   ]
  },
  {
   "cell_type": "code",
   "execution_count": 292,
   "id": "ec3049d4",
   "metadata": {},
   "outputs": [
    {
     "data": {
      "text/plain": [
       "0.33583911267438604"
      ]
     },
     "execution_count": 292,
     "metadata": {},
     "output_type": "execute_result"
    }
   ],
   "source": [
    "# Question 6\n",
    "\n",
    "# Split the dataset like previously, use seed 9.\n",
    "df_shuffled = df.sample(frac = 1, # sample all data\n",
    "                        random_state = 9, # set seed\n",
    "                        ignore_index = True) # reset index (--> 0, ..., n-1 instead of original index)\n",
    "\n",
    "# Combine train and validation datasets.\n",
    "x_shuffled = df_shuffled.drop('median_house_value', axis = 1)\n",
    "x_train, x_valid, x_test = np.split(x_shuffled, [int(.6*len(df)), int(.8*len(df))])\n",
    "x_trainvalid = pd.concat([x_train, x_valid])\n",
    "\n",
    "y_shuffled = df_shuffled['median_house_value']\n",
    "logy_shuffled = np.log1p(y_shuffled).copy()\n",
    "logy_train, logy_valid, logy_test = np.split(logy_shuffled, [int(.6*len(df)), int(.8*len(df))])\n",
    "logy_trainvalid = pd.concat([logy_train, logy_valid])\n",
    "\n",
    "# Fill the missing values with 0 \n",
    "x_trainvalid_fillzero = x_trainvalid.copy()\n",
    "x_trainvalid_fillzero['total_bedrooms'] = x_trainvalid['total_bedrooms'].fillna(0, inplace=False)\n",
    "\n",
    "# and train a model with r=0.001.\n",
    "w_0, w = train_linear_regression_reg(x_trainvalid_fillzero, \n",
    "                                     logy_trainvalid,\n",
    "                                     r = 0.001)\n",
    "\n",
    "logy_pred_fillzero = w_0 + x_trainvalid_fillzero.dot(w)\n",
    "\n",
    "rmse(logy_validate, logy_pred_fillzero)\n",
    "\n",
    "# What's the RMSE on the test dataset?\n",
    "# --> 0.35 <--\n",
    "# 0.035\n",
    "# 0.45\n",
    "# 0.045\n",
    "\n",
    "# 0.336 --> closest to 0.35"
   ]
  },
  {
   "cell_type": "code",
   "execution_count": null,
   "id": "994e2eb9",
   "metadata": {},
   "outputs": [],
   "source": []
  },
  {
   "cell_type": "code",
   "execution_count": null,
   "id": "9dec873f",
   "metadata": {},
   "outputs": [],
   "source": []
  }
 ],
 "metadata": {
  "kernelspec": {
   "display_name": "Python 3 (ipykernel)",
   "language": "python",
   "name": "python3"
  },
  "language_info": {
   "codemirror_mode": {
    "name": "ipython",
    "version": 3
   },
   "file_extension": ".py",
   "mimetype": "text/x-python",
   "name": "python",
   "nbconvert_exporter": "python",
   "pygments_lexer": "ipython3",
   "version": "3.9.12"
  }
 },
 "nbformat": 4,
 "nbformat_minor": 5
}
