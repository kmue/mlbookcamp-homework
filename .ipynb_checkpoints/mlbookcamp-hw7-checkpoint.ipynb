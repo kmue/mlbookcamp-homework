{
 "cells": [
  {
   "cell_type": "code",
   "execution_count": 48,
   "id": "baf8b856",
   "metadata": {},
   "outputs": [],
   "source": [
    "import pandas as pd\n",
    "import numpy as np\n",
    "import seaborn as sns\n",
    "from sklearn.model_selection import train_test_split\n",
    "from sklearn.ensemble import RandomForestClassifier\n",
    "# import xgboost as xgb\n",
    "\n",
    "from sklearn.feature_extraction import DictVectorizer\n",
    "from sklearn.metrics import roc_auc_score\n",
    "\n",
    "import bentoml"
   ]
  },
  {
   "cell_type": "code",
   "execution_count": 49,
   "id": "f7b97c3e",
   "metadata": {},
   "outputs": [],
   "source": [
    "# Homework\n",
    "\n",
    "# Note: sometimes your answer might not match one of the options exactly. That's fine. Select the option that's closest to your solution.\n",
    "# The goal of this homework is to familiarize you with BentoML and how to build and test an ML production service.\n",
    "\n",
    "# Background\n",
    "# You are a new recruit at ACME corp. Your manager is emailing you about your first assignment.\n",
    "# Email from your manager\n",
    "\n",
    "# Good morning recruit! It's good to have you here! I have an assignment for you. \n",
    "# I have a data scientist that's built a credit risk model in a jupyter notebook. \n",
    "# I need you to run the notebook and save the model with BentoML and see how big the model is. \n",
    "# If it's greater than a certain size, I'm going to have to request additional resources from our infra team. \n",
    "# Please let me know how big it is.\n",
    "# Thanks,\n",
    "# Mr McManager\n",
    "\n",
    "# Question 1\n",
    "\n",
    "# Install BentoML\n",
    "# What's the version of BentoML you installed?\n",
    "# Use --version to find out\n",
    "\n",
    "# --> installed bentoml in hw7 subfolder: pip install bentoml\n",
    "\n",
    "# also in terminal then ran\n",
    "# > bentoml --version\n",
    "# --> bentoml, version 1.0.7"
   ]
  },
  {
   "cell_type": "code",
   "execution_count": 50,
   "id": "541ed16c",
   "metadata": {},
   "outputs": [],
   "source": [
    "# Question 2\n",
    "\n",
    "# Run the notebook from module 6 and \n",
    "# save the credit risk model with BentoML\n",
    "\n"
   ]
  },
  {
   "cell_type": "code",
   "execution_count": 51,
   "id": "f69615cc",
   "metadata": {},
   "outputs": [],
   "source": [
    "# final credit risk model from module 6 found here\n",
    "# https://github.com/alexeygrigorev/mlbookcamp-code/blob/master/course-zoomcamp/06-trees/notebook.ipynb\n"
   ]
  },
  {
   "cell_type": "code",
   "execution_count": 52,
   "id": "4cf65b95",
   "metadata": {
    "scrolled": true
   },
   "outputs": [
    {
     "name": "stdout",
     "output_type": "stream",
     "text": [
      "--2022-10-22 16:13:30--  https://raw.githubusercontent.com/alexeygrigorev/mlbookcamp-code/master/chapter-06-trees/CreditScoring.csv\n",
      "Resolving raw.githubusercontent.com (raw.githubusercontent.com)... 185.199.110.133, 185.199.111.133, 185.199.108.133, ...\n",
      "Connecting to raw.githubusercontent.com (raw.githubusercontent.com)|185.199.110.133|:443... connected.\n",
      "HTTP request sent, awaiting response... 200 OK\n",
      "Length: 182489 (178K) [text/plain]\n",
      "Saving to: ‘CreditScoring.csv.4’\n",
      "\n",
      "CreditScoring.csv.4 100%[===================>] 178.21K  --.-KB/s    in 0.002s  \n",
      "\n",
      "2022-10-22 16:13:30 (70.1 MB/s) - ‘CreditScoring.csv.4’ saved [182489/182489]\n",
      "\n"
     ]
    }
   ],
   "source": [
    "data = 'https://raw.githubusercontent.com/alexeygrigorev/mlbookcamp-code/master/chapter-06-trees/CreditScoring.csv'\n",
    "!wget $data\n",
    "\n",
    "df = pd.read_csv(data)\n",
    "df.columns = df.columns.str.lower()"
   ]
  },
  {
   "cell_type": "code",
   "execution_count": 53,
   "id": "a2ceeeb0",
   "metadata": {},
   "outputs": [],
   "source": [
    "status_values = {\n",
    "    1: 'ok',\n",
    "    2: 'default',\n",
    "    0: 'unk'\n",
    "}\n",
    "\n",
    "df.status = df.status.map(status_values)\n",
    "\n",
    "home_values = {\n",
    "    1: 'rent',\n",
    "    2: 'owner',\n",
    "    3: 'private',\n",
    "    4: 'ignore',\n",
    "    5: 'parents',\n",
    "    6: 'other',\n",
    "    0: 'unk'\n",
    "}\n",
    "\n",
    "df.home = df.home.map(home_values)\n",
    "\n",
    "marital_values = {\n",
    "    1: 'single',\n",
    "    2: 'married',\n",
    "    3: 'widow',\n",
    "    4: 'separated',\n",
    "    5: 'divorced',\n",
    "    0: 'unk'\n",
    "}\n",
    "\n",
    "df.marital = df.marital.map(marital_values)\n",
    "\n",
    "records_values = {\n",
    "    1: 'no',\n",
    "    2: 'yes',\n",
    "    0: 'unk'\n",
    "}\n",
    "\n",
    "df.records = df.records.map(records_values)\n",
    "\n",
    "job_values = {\n",
    "    1: 'fixed',\n",
    "    2: 'partime',\n",
    "    3: 'freelance',\n",
    "    4: 'others',\n",
    "    0: 'unk'\n",
    "}\n",
    "\n",
    "df.job = df.job.map(job_values)\n",
    "\n",
    "for c in ['income', 'assets', 'debt']:\n",
    "    df[c] = df[c].replace(to_replace=99999999, value=np.nan)\n",
    "    \n",
    "df = df[df.status != 'unk'].reset_index(drop=True)"
   ]
  },
  {
   "cell_type": "code",
   "execution_count": 54,
   "id": "934c3f81",
   "metadata": {},
   "outputs": [],
   "source": [
    "df_full_train, df_test = train_test_split(df, test_size=0.2, random_state=11)\n",
    "df_train, df_val = train_test_split(df_full_train, test_size=0.25, random_state=11)\n",
    "\n",
    "df_train = df_train.reset_index(drop=True)\n",
    "df_val = df_val.reset_index(drop=True)\n",
    "df_test = df_test.reset_index(drop=True)\n",
    "\n",
    "y_train = (df_train.status == 'default').astype('int').values\n",
    "y_val = (df_val.status == 'default').astype('int').values\n",
    "y_test = (df_test.status == 'default').astype('int').values\n",
    "\n",
    "del df_train['status']\n",
    "del df_val['status']\n",
    "del df_test['status']\n",
    "\n"
   ]
  },
  {
   "cell_type": "code",
   "execution_count": 55,
   "id": "c10a9077",
   "metadata": {
    "scrolled": true
   },
   "outputs": [
    {
     "name": "stderr",
     "output_type": "stream",
     "text": [
      "/home/ubuntu/anaconda3/lib/python3.9/site-packages/sklearn/utils/deprecation.py:87: FutureWarning: Function get_feature_names is deprecated; get_feature_names is deprecated in 1.0 and will be removed in 1.2. Please use get_feature_names_out instead.\n",
      "  warnings.warn(msg, category=FutureWarning)\n"
     ]
    }
   ],
   "source": [
    "train_dicts = df_train.fillna(0).to_dict(orient='records')\n",
    "\n",
    "dv = DictVectorizer(sparse=False)\n",
    "X_train = dv.fit_transform(train_dicts)\n",
    "\n",
    "val_dicts = df_val.fillna(0).to_dict(orient='records')\n",
    "X_val = dv.transform(val_dicts)\n",
    "\n",
    "features = dv.get_feature_names()\n",
    "dtrain = xgb.DMatrix(X_train, label=y_train, feature_names=features)\n",
    "dval = xgb.DMatrix(X_val, label=y_val, feature_names=features)\n"
   ]
  },
  {
   "cell_type": "code",
   "execution_count": 56,
   "id": "dc1f69af",
   "metadata": {},
   "outputs": [],
   "source": [
    "df_full_train = df_full_train.reset_index(drop=True)\n",
    "y_full_train = (df_full_train.status == 'default').astype(int).values\n",
    "del df_full_train['status']"
   ]
  },
  {
   "cell_type": "code",
   "execution_count": 57,
   "id": "e3a73776",
   "metadata": {},
   "outputs": [],
   "source": [
    "dicts_full_train = df_full_train.to_dict(orient='records')\n",
    "\n",
    "dv = DictVectorizer(sparse=False)\n",
    "X_full_train = dv.fit_transform(dicts_full_train)\n",
    "\n",
    "dicts_test = df_test.to_dict(orient='records')\n",
    "X_test = dv.transform(dicts_test)"
   ]
  },
  {
   "cell_type": "code",
   "execution_count": 58,
   "id": "b9ab9d5f",
   "metadata": {},
   "outputs": [],
   "source": [
    "#max_depth = 10\n",
    "#min_samples_leaf = 3\n",
    "\n",
    "#rf = RandomForestClassifier(n_estimators=200,\n",
    "#                            max_depth=max_depth,\n",
    "#                            min_samples_leaf=min_samples_leaf,\n",
    "#                            random_state=1)\n",
    "#rf.fit(X_train, y_train)"
   ]
  },
  {
   "cell_type": "code",
   "execution_count": 59,
   "id": "59c6c582",
   "metadata": {},
   "outputs": [],
   "source": [
    "dfulltrain = xgb.DMatrix(X_full_train, label=y_full_train,\n",
    "                    feature_names=dv.get_feature_names())\n",
    "\n",
    "dtest = xgb.DMatrix(X_test, feature_names=dv.get_feature_names())\n",
    "\n",
    "xgb_params = {\n",
    "    'eta': 0.1, \n",
    "    'max_depth': 3,\n",
    "    'min_child_weight': 1,\n",
    "\n",
    "    'objective': 'binary:logistic',\n",
    "    'eval_metric': 'auc',\n",
    "\n",
    "    'nthread': 8,\n",
    "    'seed': 1,\n",
    "    'verbosity': 1,\n",
    "}\n",
    "\n",
    "model = xgb.train(xgb_params, dfulltrain, num_boost_round=175)"
   ]
  },
  {
   "cell_type": "code",
   "execution_count": 60,
   "id": "1e45c994",
   "metadata": {},
   "outputs": [
    {
     "name": "stdout",
     "output_type": "stream",
     "text": [
      "Model saved: Model(tag=\"credit_risk_model:qxxzgucseszs5r7u\")\n"
     ]
    }
   ],
   "source": [
    "saved_model = bentoml.xgboost.save_model(\"credit_risk_model\", model,\n",
    "                                        custom_objects = {\n",
    "                                            \"dictVectorizer\" : dv\n",
    "                                        })\n",
    "print(f\"Model saved: {saved_model}\")"
   ]
  },
  {
   "cell_type": "code",
   "execution_count": null,
   "id": "86fb8d77",
   "metadata": {},
   "outputs": [],
   "source": [
    "# How big approximately is the saved BentoML model?\n",
    "\n",
    "# 924kb\n",
    "# 724kb\n",
    "# --> 114kb <-- closest to 197KiB\n",
    "# 8kb"
   ]
  },
  {
   "cell_type": "code",
   "execution_count": null,
   "id": "911d853b",
   "metadata": {},
   "outputs": [],
   "source": [
    "# Another email from your manager\n",
    "# Great job recruit! Looks like I won't be having to go back to the procurement team. \n",
    "# Thanks for the information.\n",
    "# However, I just got word from one of the teams that's using one of our ML services \n",
    "# and they're saying our service is \"broken\" and their trying to blame our model. \n",
    "# I looked at the data their sending and it's completely bogus. \n",
    "# I don't want them to send bad data to us and blame us for our models. Could you write a pydantic schema for the data that they should be sending? That way next time it will tell them it's their data that's bad and not our model.\n",
    "# Thanks,\n",
    "# Mr McManager"
   ]
  },
  {
   "cell_type": "code",
   "execution_count": null,
   "id": "2fb75613",
   "metadata": {},
   "outputs": [],
   "source": [
    "# Question 3\n",
    "\n",
    "# Say you have the following data that you're sending to your service:\n",
    "\n",
    "# {\n",
    "#   \"name\": \"Tim\",\n",
    "#   \"age\": 37,\n",
    "#   \"country\": \"US\",\n",
    "#   \"rating\": 3.14\n",
    "# }\n",
    "# What would the pydantic class look like? You can name the class UserProfile.\n",
    "\n",
    "# Answer:\n",
    "# class UserProfile(BaseModel):\n",
    "#     name: str\n",
    "#     age: int\n",
    "#     country: str\n",
    "#     rating: float"
   ]
  },
  {
   "cell_type": "code",
   "execution_count": null,
   "id": "bfac2fd3",
   "metadata": {},
   "outputs": [],
   "source": [
    "# Email from your CEO\n",
    "# Good morning! I hear you're the one to go to if I need something done well! \n",
    "# We've got a new model that a big client needs deployed ASAP. I need you to build a service with it and test it against the old model and make sure that it performs better, otherwise we're going to lose this client. All our hopes are with you!\n",
    "# Thanks,\n",
    "# CEO of Acme Corp"
   ]
  },
  {
   "cell_type": "code",
   "execution_count": null,
   "id": "7f48382f",
   "metadata": {},
   "outputs": [],
   "source": [
    "# Question 4\n",
    "# We've prepared a model for you that you can import using:\n",
    "# curl -O https://s3.us-west-2.amazonaws.com/bentoml.com/mlzoomcamp/coolmodel.bentomodel\n",
    "# bentoml models import coolmodel.bentomodel\n",
    "# What version of scikit-learn was this model trained with?\n",
    "# additional step (in bash): bentoml models get mlzoomcamp_homework:qtzdz3slg6mwwdu5\n",
    "# which will return\n",
    "\n",
    "# name: mlzoomcamp_homework                                                                                           \n",
    "# version: qtzdz3slg6mwwdu5                                                                                           \n",
    "# module: bentoml.sklearn                                                                                             \n",
    "# labels: {}                                                                                                          \n",
    "# options: {}                                                                                                         \n",
    "# metadata: {}                                                                                                        \n",
    "# context:                                                                                                            \n",
    "#   framework_name: sklearn                                                                                           \n",
    "#   framework_versions:                                                                                               \n",
    "#     scikit-learn: 1.1.1                                                                                             \n",
    "#   bentoml_version: 1.0.7                                                                                            \n",
    "#   python_version: 3.9.12                                                                                            \n",
    "# signatures:                                                                                                         \n",
    "#   predict:                                                                                                          \n",
    "#     batchable: false                                                                                                \n",
    "# api_version: v1                                                                                                     \n",
    "# creation_time: '2022-10-13T20:42:14.411084+00:00'\n",
    "\n",
    "# --> 1.1.1 <--\n",
    "# 1.1.2\n",
    "# 1.1.3\n",
    "# 1.1.4\n",
    "# 1.1.5\n"
   ]
  },
  {
   "cell_type": "code",
   "execution_count": null,
   "id": "27651d8e",
   "metadata": {},
   "outputs": [],
   "source": [
    "# Question 5\n",
    "# Create a bento out of this scikit-learn model. This will require installing scikit-learn like this:\n",
    "# pip install scikit-learn\n",
    "# Hint: The and output type for this endpoint should be NumpyNdarray()\n",
    "# Send this array to the bento:\n",
    "# [[6.4,3.5,4.5,1.2]]\n",
    "# You can use curl or the Swagger UI. What value does it return?\n",
    "# 0\n",
    "# --> 1 <--\n",
    "# 2\n",
    "# 3"
   ]
  },
  {
   "cell_type": "code",
   "execution_count": 1,
   "id": "c8ab3fee",
   "metadata": {},
   "outputs": [
    {
     "name": "stdout",
     "output_type": "stream",
     "text": [
      "--2022-10-23 13:45:19--  https://github.com/alexeygrigorev/mlbookcamp-code/blob/master/course-zoomcamp/cohorts/2022/07-bento-production/locustfile.py\n",
      "Resolving github.com (github.com)... 140.82.121.3\n",
      "Connecting to github.com (github.com)|140.82.121.3|:443... connected.\n",
      "HTTP request sent, awaiting response... 200 OK\n",
      "Length: unspecified [text/html]\n",
      "Saving to: ‘locustfile.py’\n",
      "\n",
      "locustfile.py           [ <=>                ] 168.59K  --.-KB/s    in 0.004s  \n",
      "\n",
      "2022-10-23 13:45:19 (41.7 MB/s) - ‘locustfile.py’ saved [172638]\n",
      "\n"
     ]
    }
   ],
   "source": [
    "# Question 6\n",
    "# Ensure to serve your bento with --production for this question\n",
    "# Install locust using:\n",
    "# pip install locust\n",
    "# Use the following locust file: locustfile.py\n",
    "locustfile = 'https://github.com/alexeygrigorev/mlbookcamp-code/blob/master/course-zoomcamp/cohorts/2022/07-bento-production/locustfile.py'\n",
    "!wget $locustfile\n",
    "# Ensure that it is pointed at your bento's endpoint (In case you didn't name your endpoint \"classify\")"
   ]
  },
  {
   "cell_type": "code",
   "execution_count": null,
   "id": "41e04acf",
   "metadata": {},
   "outputs": [],
   "source": [
    "# Configure 100 users with ramp time of 10 users per second. Click \"Start Swarming\" and ensure that it is working\n",
    "# Now download a second model with this command:\n",
    "# curl -O https://s3.us-west-2.amazonaws.com/bentoml.com/mlzoomcamp/coolmodel2.bentomodel\n",
    "# Or you can download with this link as well: \n",
    "# https://s3.us-west-2.amazonaws.com/bentoml.com/mlzoomcamp/coolmodel2.bentomodel\n",
    "# Now import the model:\n",
    "# bentoml models import coolmodel2.bentomodel\n",
    "# Update your bento's runner tag and test with both models. \n",
    "# Which model allows more traffic (more throughput) as you ramp up the traffic? \n",
    "# Remember to turn off and turn on your bento service between changing the model tag. \n",
    "# Use Ctl-C to close the service. Then call bentoml serve"
   ]
  },
  {
   "cell_type": "code",
   "execution_count": null,
   "id": "c0e0de3a",
   "metadata": {},
   "outputs": [],
   "source": [
    "# with async and for n around e.g. 200-500, on my cloud machine 2nd model performs about 10% better in terms of RPS"
   ]
  },
  {
   "cell_type": "code",
   "execution_count": null,
   "id": "e35f12d4",
   "metadata": {},
   "outputs": [],
   "source": [
    "# Test out the first model and the second model, which one performance better at higher volumes?\n",
    "# The first model\n",
    "# --> The second model <--"
   ]
  },
  {
   "cell_type": "code",
   "execution_count": null,
   "id": "e9c16341",
   "metadata": {},
   "outputs": [],
   "source": []
  },
  {
   "cell_type": "code",
   "execution_count": null,
   "id": "c90ff777",
   "metadata": {},
   "outputs": [],
   "source": [
    "# Email from marketing\n",
    "# Hello ML person! I hope this email finds you well. \n",
    "# I've heard there's this cool new ML model called Stable Diffusion. \n",
    "# I hear if you give it a description of a picture it will generate an image. \n",
    "# We need a new company logo and I want it to be fierce but also cool, think you could help out?\n",
    "# Thanks,\n",
    "# Mike Marketer"
   ]
  },
  {
   "cell_type": "code",
   "execution_count": null,
   "id": "3872e872",
   "metadata": {},
   "outputs": [],
   "source": [
    "# Question 7 (optional)\n",
    "# Go to this Bento deployment of Stable Diffusion: http://54.176.205.174/ (or deploy it yourself)\n",
    "# Use the txt2image endpoint and update the prompt to: \"A cartoon dragon with sunglasses\". Don't change the seed, it should be 0 by default\n",
    "# What is the resulting image?\n",
    "# 1\n",
    "# 2\n",
    "# 3\n",
    "# 4"
   ]
  }
 ],
 "metadata": {
  "kernelspec": {
   "display_name": "Python 3 (ipykernel)",
   "language": "python",
   "name": "python3"
  },
  "language_info": {
   "codemirror_mode": {
    "name": "ipython",
    "version": 3
   },
   "file_extension": ".py",
   "mimetype": "text/x-python",
   "name": "python",
   "nbconvert_exporter": "python",
   "pygments_lexer": "ipython3",
   "version": "3.9.12"
  }
 },
 "nbformat": 4,
 "nbformat_minor": 5
}
