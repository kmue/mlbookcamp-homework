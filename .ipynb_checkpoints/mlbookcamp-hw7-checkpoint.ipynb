{
 "cells": [
  {
   "cell_type": "code",
   "execution_count": 69,
   "id": "baf8b856",
   "metadata": {},
   "outputs": [],
   "source": [
    "import pandas as pd\n",
    "import numpy as np\n",
    "\n",
    "from sklearn.model_selection import train_test_split\n",
    "from sklearn.feature_extraction import DictVectorizer\n",
    "\n",
    "from sklearn.ensemble import RandomForestClassifier\n",
    "\n",
    "import xgboost as xgb\n",
    "\n",
    "import bentoml\n",
    "import json"
   ]
  },
  {
   "cell_type": "code",
   "execution_count": 49,
   "id": "f7b97c3e",
   "metadata": {},
   "outputs": [],
   "source": [
    "# Homework\n",
    "\n",
    "# Note: sometimes your answer might not match one of the options exactly. That's fine. Select the option that's closest to your solution.\n",
    "# The goal of this homework is to familiarize you with BentoML and how to build and test an ML production service.\n",
    "\n",
    "# Background\n",
    "# You are a new recruit at ACME corp. Your manager is emailing you about your first assignment.\n",
    "# Email from your manager\n",
    "\n",
    "# Good morning recruit! It's good to have you here! I have an assignment for you. \n",
    "# I have a data scientist that's built a credit risk model in a jupyter notebook. \n",
    "# I need you to run the notebook and save the model with BentoML and see how big the model is. \n",
    "# If it's greater than a certain size, I'm going to have to request additional resources from our infra team. \n",
    "# Please let me know how big it is.\n",
    "# Thanks,\n",
    "# Mr McManager\n",
    "\n",
    "# Question 1\n",
    "\n",
    "# Install BentoML\n",
    "# What's the version of BentoML you installed?\n",
    "# Use --version to find out\n",
    "\n",
    "# --> installed bentoml in hw7 subfolder: pip install bentoml\n",
    "\n",
    "# also in terminal then ran\n",
    "# > bentoml --version\n",
    "# --> bentoml, version 1.0.7"
   ]
  },
  {
   "cell_type": "code",
   "execution_count": 50,
   "id": "541ed16c",
   "metadata": {},
   "outputs": [],
   "source": [
    "# Question 2\n",
    "\n",
    "# Run the notebook from module 6 and \n",
    "# save the credit risk model with BentoML\n",
    "\n"
   ]
  },
  {
   "cell_type": "code",
   "execution_count": 51,
   "id": "f69615cc",
   "metadata": {},
   "outputs": [],
   "source": [
    "# final credit risk model from module 6 found here\n",
    "# https://github.com/alexeygrigorev/mlbookcamp-code/blob/master/course-zoomcamp/06-trees/notebook.ipynb\n"
   ]
  },
  {
   "cell_type": "code",
   "execution_count": 52,
   "id": "4cf65b95",
   "metadata": {
    "scrolled": true
   },
   "outputs": [
    {
     "name": "stdout",
     "output_type": "stream",
     "text": [
      "--2022-10-22 16:13:30--  https://raw.githubusercontent.com/alexeygrigorev/mlbookcamp-code/master/chapter-06-trees/CreditScoring.csv\n",
      "Resolving raw.githubusercontent.com (raw.githubusercontent.com)... 185.199.110.133, 185.199.111.133, 185.199.108.133, ...\n",
      "Connecting to raw.githubusercontent.com (raw.githubusercontent.com)|185.199.110.133|:443... connected.\n",
      "HTTP request sent, awaiting response... 200 OK\n",
      "Length: 182489 (178K) [text/plain]\n",
      "Saving to: ‘CreditScoring.csv.4’\n",
      "\n",
      "CreditScoring.csv.4 100%[===================>] 178.21K  --.-KB/s    in 0.002s  \n",
      "\n",
      "2022-10-22 16:13:30 (70.1 MB/s) - ‘CreditScoring.csv.4’ saved [182489/182489]\n",
      "\n"
     ]
    }
   ],
   "source": [
    "data = 'https://raw.githubusercontent.com/alexeygrigorev/mlbookcamp-code/master/chapter-06-trees/CreditScoring.csv'\n",
    "df = pd.read_csv(data)\n",
    "df.columns = df.columns.str.lower()"
   ]
  },
  {
   "cell_type": "code",
   "execution_count": 53,
   "id": "a2ceeeb0",
   "metadata": {},
   "outputs": [],
   "source": [
    "status_values = {\n",
    "    1: 'ok',\n",
    "    2: 'default',\n",
    "    0: 'unk'\n",
    "}\n",
    "\n",
    "df.status = df.status.map(status_values)\n",
    "\n",
    "home_values = {\n",
    "    1: 'rent',\n",
    "    2: 'owner',\n",
    "    3: 'private',\n",
    "    4: 'ignore',\n",
    "    5: 'parents',\n",
    "    6: 'other',\n",
    "    0: 'unk'\n",
    "}\n",
    "\n",
    "df.home = df.home.map(home_values)\n",
    "\n",
    "marital_values = {\n",
    "    1: 'single',\n",
    "    2: 'married',\n",
    "    3: 'widow',\n",
    "    4: 'separated',\n",
    "    5: 'divorced',\n",
    "    0: 'unk'\n",
    "}\n",
    "\n",
    "df.marital = df.marital.map(marital_values)\n",
    "\n",
    "records_values = {\n",
    "    1: 'no',\n",
    "    2: 'yes',\n",
    "    0: 'unk'\n",
    "}\n",
    "\n",
    "df.records = df.records.map(records_values)\n",
    "\n",
    "job_values = {\n",
    "    1: 'fixed',\n",
    "    2: 'partime',\n",
    "    3: 'freelance',\n",
    "    4: 'others',\n",
    "    0: 'unk'\n",
    "}\n",
    "\n",
    "df.job = df.job.map(job_values)\n",
    "\n",
    "for c in ['income', 'assets', 'debt']:\n",
    "    df[c] = df[c].replace(to_replace=99999999, value=np.nan)\n",
    "    \n",
    "df = df[df.status != 'unk'].reset_index(drop=True)"
   ]
  },
  {
   "cell_type": "code",
   "execution_count": 54,
   "id": "934c3f81",
   "metadata": {},
   "outputs": [],
   "source": [
    "df_train, df_test = train_test_split(df, test_size=0.2, random_state=11)\n",
    "\n",
    "df_train = df_train.reset_index(drop=True)\n",
    "df_test = df_test.reset_index(drop=True)\n",
    "\n",
    "y_train = (df_train.status == 'default').astype('int').values\n",
    "y_test = (df_test.status == 'default').astype('int').values\n",
    "\n",
    "del df_train['status']\n",
    "del df_test['status']\n"
   ]
  },
  {
   "cell_type": "code",
   "execution_count": 62,
   "id": "c10a9077",
   "metadata": {
    "scrolled": true
   },
   "outputs": [],
   "source": [
    "dv = DictVectorizer(sparse=False)\n",
    "\n",
    "train_dicts = df_train.fillna(0).to_dict(orient='records')\n",
    "X_train = dv.fit_transform(train_dicts)\n",
    "\n",
    "test_dicts = df_test.fillna(0).to_dict(orient='records')\n",
    "X_test = dv.transform(test_dicts)\n",
    "\n",
    "# features = dv.get_feature_names()\n",
    "# dtrain = xgb.DMatrix(X_train, label=y_train, feature_names=features)\n",
    "# dval = xgb.DMatrix(X_val, label=y_val, feature_names=features)"
   ]
  },
  {
   "cell_type": "code",
   "execution_count": 64,
   "id": "d0f09f69",
   "metadata": {},
   "outputs": [
    {
     "data": {
      "text/plain": [
       "RandomForestClassifier(max_depth=10, min_samples_leaf=3, n_estimators=200,\n",
       "                       random_state=1)"
      ]
     },
     "execution_count": 64,
     "metadata": {},
     "output_type": "execute_result"
    }
   ],
   "source": [
    "# Random forest\n",
    "rf = RandomForestClassifier(n_estimators=200,\n",
    "                            max_depth=10,\n",
    "                            min_samples_leaf=3,\n",
    "                            random_state=1)\n",
    "rf.fit(X_train, y_train)"
   ]
  },
  {
   "cell_type": "code",
   "execution_count": 66,
   "id": "f46d5f4c",
   "metadata": {},
   "outputs": [],
   "source": [
    "# Note: We removed feature names\n",
    "# It was\n",
    "# features = dv.get_feature_names_out()\n",
    "# dtrain = xgb.DMatrix(X_train, label=y_train, feature_names=features)\n",
    "# Now it's\n",
    "dtrain = xgb.DMatrix(X_train, label=y_train)"
   ]
  },
  {
   "cell_type": "code",
   "execution_count": 56,
   "id": "dc1f69af",
   "metadata": {},
   "outputs": [],
   "source": [
    "df_full_train = df_full_train.reset_index(drop=True)\n",
    "y_full_train = (df_full_train.status == 'default').astype(int).values\n",
    "del df_full_train['status']"
   ]
  },
  {
   "cell_type": "code",
   "execution_count": 67,
   "id": "59c6c582",
   "metadata": {},
   "outputs": [],
   "source": [
    "xgb_params = {\n",
    "    'eta': 0.1, \n",
    "    'max_depth': 3,\n",
    "    'min_child_weight': 1,\n",
    "\n",
    "    'objective': 'binary:logistic',\n",
    "    'eval_metric': 'auc',\n",
    "\n",
    "    'nthread': 8,\n",
    "    'seed': 1,\n",
    "    'verbosity': 1,\n",
    "}\n",
    "\n",
    "model = xgb.train(xgb_params, dtrain, num_boost_round=175)"
   ]
  },
  {
   "cell_type": "code",
   "execution_count": 68,
   "id": "d8b85fce",
   "metadata": {},
   "outputs": [
    {
     "name": "stdout",
     "output_type": "stream",
     "text": [
      "Model saved: Model(tag=\"credit_risk_model:yvrasesse2zs5r7u\")\n"
     ]
    }
   ],
   "source": [
    "saved_model = bentoml.xgboost.save_model(\"credit_risk_model\", model,\n",
    "                                        custom_objects = {\n",
    "                                            \"dictVectorizer\" : dv\n",
    "                                        })\n",
    "print(f\"Model saved: {saved_model}\")"
   ]
  },
  {
   "cell_type": "code",
   "execution_count": 70,
   "id": "4e961efc",
   "metadata": {},
   "outputs": [
    {
     "name": "stdout",
     "output_type": "stream",
     "text": [
      "{\n",
      "  \"seniority\": 3,\n",
      "  \"home\": \"owner\",\n",
      "  \"time\": 36,\n",
      "  \"age\": 26,\n",
      "  \"marital\": \"single\",\n",
      "  \"records\": \"no\",\n",
      "  \"job\": \"freelance\",\n",
      "  \"expenses\": 35,\n",
      "  \"income\": 0.0,\n",
      "  \"assets\": 60000.0,\n",
      "  \"debt\": 3000.0,\n",
      "  \"amount\": 800,\n",
      "  \"price\": 1000\n",
      "}\n"
     ]
    },
    {
     "data": {
      "text/plain": [
       "{'seniority': 3,\n",
       " 'home': 'owner',\n",
       " 'time': 36,\n",
       " 'age': 26,\n",
       " 'marital': 'single',\n",
       " 'records': 'no',\n",
       " 'job': 'freelance',\n",
       " 'expenses': 35,\n",
       " 'income': 0.0,\n",
       " 'assets': 60000.0,\n",
       " 'debt': 3000.0,\n",
       " 'amount': 800,\n",
       " 'price': 1000}"
      ]
     },
     "execution_count": 70,
     "metadata": {},
     "output_type": "execute_result"
    }
   ],
   "source": [
    "request = df_test.iloc[0].to_dict()\n",
    "print(json.dumps(request, indent=2))\n",
    "{\n",
    "  \"seniority\": 3,\n",
    "  \"home\": \"owner\",\n",
    "  \"time\": 36,\n",
    "  \"age\": 26,\n",
    "  \"marital\": \"single\",\n",
    "  \"records\": \"no\",\n",
    "  \"job\": \"freelance\",\n",
    "  \"expenses\": 35,\n",
    "  \"income\": 0.0,\n",
    "  \"assets\": 60000.0,\n",
    "  \"debt\": 3000.0,\n",
    "  \"amount\": 800,\n",
    "  \"price\": 1000\n",
    "}"
   ]
  },
  {
   "cell_type": "code",
   "execution_count": null,
   "id": "86fb8d77",
   "metadata": {},
   "outputs": [],
   "source": [
    "# How big approximately is the saved BentoML model?\n",
    "\n",
    "# 924kbTest\n",
    "# 724kb\n",
    "# --> 114kb <-- closest to observed 197kb.. followed videos step by step\n",
    "# 8kb"
   ]
  },
  {
   "cell_type": "code",
   "execution_count": null,
   "id": "911d853b",
   "metadata": {},
   "outputs": [],
   "source": [
    "# Another email from your manager\n",
    "# Great job recruit! Looks like I won't be having to go back to the procurement team. \n",
    "# Thanks for the information.\n",
    "# However, I just got word from one of the teams that's using one of our ML services \n",
    "# and they're saying our service is \"broken\" and their trying to blame our model. \n",
    "# I looked at the data their sending and it's completely bogus. \n",
    "# I don't want them to send bad data to us and blame us for our models. Could you write a pydantic schema for the data that they should be sending? That way next time it will tell them it's their data that's bad and not our model.\n",
    "# Thanks,\n",
    "# Mr McManager"
   ]
  },
  {
   "cell_type": "code",
   "execution_count": null,
   "id": "2fb75613",
   "metadata": {},
   "outputs": [],
   "source": [
    "# Question 3\n",
    "\n",
    "# Say you have the following data that you're sending to your service:\n",
    "\n",
    "# {\n",
    "#   \"name\": \"Tim\",\n",
    "#   \"age\": 37,\n",
    "#   \"country\": \"US\",\n",
    "#   \"rating\": 3.14\n",
    "# }\n",
    "# What would the pydantic class look like? You can name the class UserProfile.\n",
    "\n",
    "class User(UserProfile):\n",
    "    name = 'Jane Doe'\n"
   ]
  },
  {
   "cell_type": "code",
   "execution_count": null,
   "id": "bfac2fd3",
   "metadata": {},
   "outputs": [],
   "source": []
  },
  {
   "cell_type": "code",
   "execution_count": null,
   "id": "7f48382f",
   "metadata": {},
   "outputs": [],
   "source": []
  },
  {
   "cell_type": "code",
   "execution_count": null,
   "id": "27651d8e",
   "metadata": {},
   "outputs": [],
   "source": []
  }
 ],
 "metadata": {
  "kernelspec": {
   "display_name": "Python 3 (ipykernel)",
   "language": "python",
   "name": "python3"
  },
  "language_info": {
   "codemirror_mode": {
    "name": "ipython",
    "version": 3
   },
   "file_extension": ".py",
   "mimetype": "text/x-python",
   "name": "python",
   "nbconvert_exporter": "python",
   "pygments_lexer": "ipython3",
   "version": "3.9.12"
  }
 },
 "nbformat": 4,
 "nbformat_minor": 5
}
