{
 "cells": [
  {
   "cell_type": "code",
   "execution_count": 1,
   "id": "a8e5b672",
   "metadata": {},
   "outputs": [],
   "source": [
    "# Bulding the image\n",
    "# Clone the course repo if you haven't:\n",
    "# git clone https://github.com/alexeygrigorev/mlbookcamp-code.git\n",
    "# Go to the course-zoomcamp/cohorts/2022/05-deployment/homework folder and execute the following:\n",
    "# docker build -t zoomcamp-model:v001 .\n",
    "# Question 1\n",
    "\n",
    "# Run it to test that it's working locally:\n",
    "# docker run -it --rm -p 9696:9696 zoomcamp-model:v001\n",
    "# And in another terminal, execute q6_test.py file:\n",
    "# python q6_test.py\n",
    "# You should see this:\n",
    "# {'get_card': True, 'get_card_probability': <value>}\n",
    "# Here <value> is the probability of getting a credit card. You need to choose the right one.\n",
    "# 0.289\n",
    "# 0.502\n",
    "# --> 0.769 <--\n",
    "# 0.972\n",
    "# Now you can stop the container running in Docker.\n",
    "\n",
    "# result: {'get_card': True, 'get_card_probability': 0.7692649226628628}"
   ]
  },
  {
   "cell_type": "code",
   "execution_count": 2,
   "id": "4fe884a4",
   "metadata": {},
   "outputs": [],
   "source": [
    "# Installing kubectl and kind\n",
    "# You need to install:\n",
    "# kubectl - https://kubernetes.io/docs/tasks/tools/ (you might already have it - check before installing)\n",
    "# kind - https://kind.sigs.k8s.io/docs/user/quick-start/\n",
    "\n",
    "# both done"
   ]
  },
  {
   "cell_type": "code",
   "execution_count": 3,
   "id": "c32c629a",
   "metadata": {},
   "outputs": [],
   "source": [
    "# Question 2\n",
    "# What's the version of kind that you have?\n",
    "# Use kind --version to find out.\n",
    "\n",
    "# kind version 0.17.0"
   ]
  },
  {
   "cell_type": "code",
   "execution_count": null,
   "id": "e44f6572",
   "metadata": {},
   "outputs": [],
   "source": [
    "# Creating a cluster\n",
    "# Now let's create a cluster with kind:\n",
    "# kind create cluster\n",
    "# And check with kubectl that it was successfully created:\n",
    "# kubectl cluster-info\n",
    "\n",
    "# both done"
   ]
  },
  {
   "cell_type": "code",
   "execution_count": null,
   "id": "f90b7f61",
   "metadata": {},
   "outputs": [],
   "source": [
    "# Question 3\n",
    "# What's the smallest deployable computing unit that we can create and manage in Kubernetes (kind in our case)?\n",
    "# Node\n",
    "# --> Pod <--\n",
    "# Deployment\n",
    "# Service\n",
    "\n",
    "# result of quick Google search"
   ]
  },
  {
   "cell_type": "code",
   "execution_count": 4,
   "id": "89b475ec",
   "metadata": {},
   "outputs": [],
   "source": [
    "# Question 4\n",
    "# Now let's test if everything works. Use kubectl to get the list of running services.\n",
    "# What's the Type of the service that is already running there?\n",
    "# --> ClusterIP <--\n",
    "# NodePort\n",
    "# LoadBalancer\n",
    "# ExternalName\n",
    "\n",
    "# kubectl get services\n",
    "# NAME         TYPE        CLUSTER-IP   EXTERNAL-IP   PORT(S)   AGE\n",
    "# kubernetes   ClusterIP   10.96.0.1    <none>        443/TCP   4m24s"
   ]
  },
  {
   "cell_type": "code",
   "execution_count": null,
   "id": "3665071e",
   "metadata": {},
   "outputs": [],
   "source": [
    "# Question 5\n",
    "# To be able to use the docker image we previously created (zoomcamp-model:v001), we need to register it with kind.\n",
    "# What's the command we need to run for that?\n",
    "# kind create cluster\n",
    "# kind build node-image\n",
    "# --> kind load docker-image <--\n",
    "# kubectl apply\n",
    "\n",
    "# Specifically: kind load docker-image zoomcamp-model:v001"
   ]
  },
  {
   "cell_type": "code",
   "execution_count": 5,
   "id": "9d47ce58",
   "metadata": {},
   "outputs": [],
   "source": [
    "# Question 6\n",
    "# Now let's create a deployment config (e.g. deployment.yaml):\n",
    "# (...)\n",
    "# Replace <Image>, <Memory>, <CPU>, <Port> with the correct values.\n",
    "# What is the value for <Port>?\n",
    "\n",
    "# Answer:\n",
    "# 9696\n",
    "\n",
    "# = as set in Dockerfile via\n",
    "# EXPOSE 9696\n",
    "\n",
    "# Apply this deployment using the appropriate command and get a list of running Pods. You can see one running Pod."
   ]
  },
  {
   "cell_type": "code",
   "execution_count": null,
   "id": "65f5ca22",
   "metadata": {},
   "outputs": [],
   "source": [
    "# Question 7\n",
    "# Let's create a service for this deployment (service.yaml):\n",
    "# apiVersion: v1\n",
    "# kind: Service\n",
    "# metadata:\n",
    "#   name: <Service name>\n",
    "# spec:\n",
    "#   type: LoadBalancer\n",
    "#   selector:\n",
    "#     app: <???>\n",
    "#   ports:\n",
    "#   - port: 80\n",
    "#     targetPort: <PORT>\n",
    "# Fill it in. What do we need to write instead of <???>?\n",
    "\n",
    "# Answer: credit-card\n",
    "# in order to be consistent with deployment.yaml\n",
    "\n",
    "# Apply this config file."
   ]
  },
  {
   "cell_type": "code",
   "execution_count": null,
   "id": "6273f074",
   "metadata": {},
   "outputs": [],
   "source": []
  },
  {
   "cell_type": "code",
   "execution_count": null,
   "id": "4724c92f",
   "metadata": {},
   "outputs": [],
   "source": []
  }
 ],
 "metadata": {
  "kernelspec": {
   "display_name": "Python 3 (ipykernel)",
   "language": "python",
   "name": "python3"
  },
  "language_info": {
   "codemirror_mode": {
    "name": "ipython",
    "version": 3
   },
   "file_extension": ".py",
   "mimetype": "text/x-python",
   "name": "python",
   "nbconvert_exporter": "python",
   "pygments_lexer": "ipython3",
   "version": "3.9.12"
  }
 },
 "nbformat": 4,
 "nbformat_minor": 5
}
